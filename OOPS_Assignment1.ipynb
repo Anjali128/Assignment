{
 "cells": [
  {
   "cell_type": "markdown",
   "id": "f0128791-ffd8-4809-b520-a6151edc9667",
   "metadata": {},
   "source": [
    "## Q1. Explain Class and Object with respect to Object-Oriented Programming. Give a suitable example."
   ]
  },
  {
   "cell_type": "markdown",
   "id": "6f43597e-8110-462c-b1db-4c4b83527ec9",
   "metadata": {},
   "source": [
    "A class is considered as a blueprint of objects. We can think of the class as a sketch (prototype) of a house. It contains all the details about the floors, doors, windows, etc. Based on these descriptions we build the house. House is the object.\n",
    "\n",
    "An object is called an instance of a class. For example, suppose Bike is a class then we can create objects like bike1, bike2, etc from the class.\n"
   ]
  },
  {
   "cell_type": "markdown",
   "id": "7b5aec42-6a28-4bb4-a084-46a9e4e5c2b5",
   "metadata": {},
   "source": [
    "## Q2. Name the four pillars of OOPs."
   ]
  },
  {
   "cell_type": "markdown",
   "id": "6ef8d70e-8a78-430e-bd05-f458b2650c29",
   "metadata": {},
   "source": [
    "Encapsulation\n",
    "Polymorphism\n",
    "Inheritance\n",
    "Data Abstraction"
   ]
  },
  {
   "cell_type": "markdown",
   "id": "d867a2ce-c8d5-4fe4-8b78-8e453eda3e23",
   "metadata": {},
   "source": [
    "## Q3. Explain why the __init__() function is used. Give a suitable example."
   ]
  },
  {
   "cell_type": "markdown",
   "id": "a8079954-39d0-4db2-bba2-67f12f657b87",
   "metadata": {},
   "source": [
    "init() functions are used to initializing the object’s state. The task of constructors is to initialize(assign values) to the data members of the class when an object of the class is created. Like methods, a constructor also contains a collection of statements(i.e. instructions) that are executed at the time of Object creation. It is run as soon as an object of a class is instantiated. The method is useful to do any initialization you want to do with your object."
   ]
  },
  {
   "cell_type": "markdown",
   "id": "e15d9790-e149-4445-a182-0b9dc6fa92c5",
   "metadata": {},
   "source": [
    "## Q4. Why self is used in OOPs?"
   ]
  },
  {
   "cell_type": "markdown",
   "id": "9617d419-c22a-4a01-bfdb-1c197134f708",
   "metadata": {},
   "source": [
    "self represents the instance of the class. By using the “self”  we can access the attributes and methods of the class in python. It binds the attributes with the given arguments."
   ]
  },
  {
   "cell_type": "markdown",
   "id": "f4e073e4-5a97-419e-8bde-950dbe4ed71a",
   "metadata": {},
   "source": [
    "## Q5. What is inheritance? Give an example for each type of inheritance."
   ]
  },
  {
   "cell_type": "markdown",
   "id": "a841b468-b25b-4b42-86dc-962d28dc5f7a",
   "metadata": {},
   "source": [
    "Inheritance is defined as the mechanism of inheriting the properties of the base class to the child class.\n",
    "Types :-\n",
    "Single level\n",
    "multi level"
   ]
  },
  {
   "cell_type": "code",
   "execution_count": null,
   "id": "3a72ac57-ef41-4fec-94f7-1e4afd352781",
   "metadata": {},
   "outputs": [],
   "source": []
  }
 ],
 "metadata": {
  "kernelspec": {
   "display_name": "Python 3 (ipykernel)",
   "language": "python",
   "name": "python3"
  },
  "language_info": {
   "codemirror_mode": {
    "name": "ipython",
    "version": 3
   },
   "file_extension": ".py",
   "mimetype": "text/x-python",
   "name": "python",
   "nbconvert_exporter": "python",
   "pygments_lexer": "ipython3",
   "version": "3.10.8"
  }
 },
 "nbformat": 4,
 "nbformat_minor": 5
}
