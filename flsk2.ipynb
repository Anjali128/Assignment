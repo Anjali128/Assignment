{
 "cells": [
  {
   "cell_type": "markdown",
   "id": "406f6308-7c03-4dbb-bb54-bf2a71788873",
   "metadata": {},
   "source": [
    "## Q1. Explain GET and POST methods."
   ]
  },
  {
   "cell_type": "markdown",
   "id": "c5b97c97-5d4f-4f08-936a-823cc411e03a",
   "metadata": {},
   "source": [
    "GET: This method is used to retrieve data from the server. e.g In an eCommerce application, there is a search button to search for an item. after entering a keyword if we noticed, the keyword you searched for gets displayed in the URL. This request is used when the data is not sensitive.\n",
    "\n",
    "POST: This method makes enables users to send data over to the server. e.g In any authentication-enabled application, the registration and login form is the best example for the post method. Whenever we enter Information and submit the data get transferred over to the POST request. And if we noticed, unlike get request there is no information will be ever displayed in the URL."
   ]
  },
  {
   "cell_type": "markdown",
   "id": "c2fcb451-a7ac-4b97-9d03-12e5ecb83496",
   "metadata": {},
   "source": [
    "## Q2. Why is request used in Flask?"
   ]
  },
  {
   "cell_type": "markdown",
   "id": "db02e236-0827-4a0a-a916-82a36d124346",
   "metadata": {},
   "source": [
    "the request object contains all the data that is sent from the client to the server. As we have already discussed in the tutorial, we can retrieve the data at the server side using the HTTP methods."
   ]
  },
  {
   "cell_type": "markdown",
   "id": "aaf527d7-c19b-493d-9dbb-2036d3a78d29",
   "metadata": {},
   "source": [
    "## Q3. Why is redirect() used in Flask?"
   ]
  },
  {
   "cell_type": "markdown",
   "id": "9fdd1850-d3ed-48d8-8638-023354ac3690",
   "metadata": {},
   "source": [
    " A redirect is used in the Flask class to send the user to a particular URL with the status code. conversely, this status code additionally identifies the issue."
   ]
  },
  {
   "cell_type": "markdown",
   "id": "c141e29e-e206-42c9-9659-79ba0a51dd8f",
   "metadata": {},
   "source": [
    "## Q4. What are templates in Flask? Why is the render_template() function used?"
   ]
  },
  {
   "cell_type": "markdown",
   "id": "e9da3a46-d628-4cbf-895c-eb7b505e782b",
   "metadata": {},
   "source": [
    "Templates are files that contain static data as well as placeholders for dynamic data. A template is rendered with specific data to produce a final document. \n",
    "\n",
    "render_template is a Flask function from the flask.templating package. render_template is used to generate output from a template file based on the Jinja2 engine that is found in the application's templates folder."
   ]
  }
 ],
 "metadata": {
  "kernelspec": {
   "display_name": "Python 3 (ipykernel)",
   "language": "python",
   "name": "python3"
  },
  "language_info": {
   "codemirror_mode": {
    "name": "ipython",
    "version": 3
   },
   "file_extension": ".py",
   "mimetype": "text/x-python",
   "name": "python",
   "nbconvert_exporter": "python",
   "pygments_lexer": "ipython3",
   "version": "3.10.8"
  }
 },
 "nbformat": 4,
 "nbformat_minor": 5
}
