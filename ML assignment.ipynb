{
 "cells": [
  {
   "cell_type": "markdown",
   "id": "df72bdbc-4d42-4262-a0c6-700d5f7e7f0a",
   "metadata": {},
   "source": [
    "# Q1 Explain the following with an example\n",
    "\n",
    "* Artificial Intelligence :\n",
    "artificial intelligence is a field, which combines computer science and robust datasets, to enable problem-solving. It also encompasses sub-fields of machine learning and deep learning, which are frequently mentioned in conjunction with artificial intelligence. eg:- Facial Detection and Recognition , Maps and Navigation\n",
    "\n",
    "* Machine learning :\n",
    " Machine learning is a branch of artificial intelligence (AI) and computer science which focuses on the use of data and algorithms to imitate the way that humans learn, gradually improving its accuracy. eg:- Traffic alerts using Google Map ,  Chatbot (Online Customer Support)\n",
    " \n",
    "* Deep Learning :\n",
    "Deep learning is a method in artificial intelligence (AI) that teaches computers to process data in a way that is inspired by the human brain. Deep learning models can recognize complex patterns in pictures, text, sounds, and other data to produce accurate insights and predictions. eg: Customer experience, Translations"
   ]
  },
  {
   "cell_type": "markdown",
   "id": "8e137178-eb22-4d08-8c30-4d6b8e662f5f",
   "metadata": {},
   "source": [
    "# Q2- What is supervised learning? List some examples of supervised learning."
   ]
  },
  {
   "cell_type": "markdown",
   "id": "492c73e7-11c9-4c01-a9aa-69a75add9be5",
   "metadata": {},
   "source": [
    "Supervised learning, also known as supervised machine learning, is a subcategory of machine learning and artificial intelligence. It is defined by its use of labeled datasets to train algorithms that to classify data or predict outcomes accurately.\n",
    "* eg:- \n",
    "\n",
    "Image- and object-recognition: Supervised learning algorithms can be used to locate, isolate, and categorize objects out of videos or images, making them useful when applied to various computer vision techniques and imagery analysis.\n",
    "\n",
    "Predictive analytics: A widespread use case for supervised learning models is in creating predictive analytics systems to provide deep insights into various business data points. This allows enterprises to anticipate certain results based on a given output variable, helping business leaders justify decisions or pivot for the benefit of the organization."
   ]
  },
  {
   "cell_type": "markdown",
   "id": "431f2c26-6950-4ef5-81ac-6e5c2f678ac6",
   "metadata": {},
   "source": [
    "# Q3- What is unsupervised learning? List some examples of unsupervised learning."
   ]
  },
  {
   "cell_type": "markdown",
   "id": "77f09358-d78c-4da1-a2ce-b5e6290e0eda",
   "metadata": {},
   "source": [
    "Unsupervised learning is when it can provide a set of unlabelled data, which it is required to analyze and find patterns inside. The examples are dimension reduction and clustering.\n",
    "\n",
    "There are various examples of Unsupervised Learning which are as follows −\n",
    "\n",
    "Organize computing clusters − The geographic areas of servers is determined on the basis of clustering of web requests received from a specific area of the world. The local server will include only the data frequently created by people of that region.\n",
    "\n",
    "Social network analysis − Social network analysis is conducted to make clusters of friends depends on the frequency of connection between them. Such analysis reveals the links between the users of some social networking website.\n",
    "\n",
    "Market segmentation − Sales organizations can cluster or group their users into multiple segments on the basis of their prior billed items. For instance, a big superstore can required to send an SMS about grocery elements specifically to its users of grocery rather than sending that SMS to all its users."
   ]
  },
  {
   "cell_type": "markdown",
   "id": "274fc33b-5767-4ddb-9cca-396bfca6ebe5",
   "metadata": {},
   "source": [
    "# Q4- What is the difference between AI, ML, DL, and DS?"
   ]
  },
  {
   "cell_type": "markdown",
   "id": "b784617e-8e92-4d99-9eec-e4672018fa31",
   "metadata": {},
   "source": [
    "Artificial Intelligence is basically the mechanism to incorporate human intelligence into machines through a set of rules(algorithm). AI is a combination of two words: “Artificial” meaning something made by humans or non-natural things and “Intelligence” meaning the ability to understand or think accordingly. Another definition could be that “AI is basically the study of training your machine(computers) to mimic a human brain and its thinking capabilities”. \n",
    "\n",
    "AI focuses on 3 major aspects(skills): learning, reasoning, and self-correction to obtain the maximum efficiency possible. \n",
    "\n",
    "Machine Learning:\n",
    "\n",
    " Machine Learning is basically the study/process which provides the system(computer) to learn automatically on its own through experiences it had and improve accordingly without being explicitly programmed. ML is an application or subset of AI. ML focuses on the development of programs so that it can access data to use it for itself. The entire process makes observations on data to identify the possible patterns being formed and make better future decisions as per the examples provided to them. The major aim of ML is to allow the systems to learn by themselves through experience without any kind of human intervention or assistance.\n",
    "\n",
    "Deep Learning:\n",
    "\n",
    " Deep Learning is basically a sub-part of the broader family of Machine Learning which makes use of Neural Networks(similar to the neurons working in our brain) to mimic human brain-like behavior. DL algorithms focus on information processing patterns mechanism to possibly identify the patterns just like our human brain does and classifies the information accordingly. DL works on larger sets of data when compared to ML and the prediction mechanism is self-administered by machines. "
   ]
  },
  {
   "cell_type": "markdown",
   "id": "0b62d1d1-a204-4e56-858a-852c48b2c6a2",
   "metadata": {},
   "source": [
    "# Q5- What are the main differences between supervised , unsupervised , semisupervised learniing?"
   ]
  },
  {
   "cell_type": "markdown",
   "id": "b0ca9d4a-56ea-4d61-ba91-ec496ac784fe",
   "metadata": {},
   "source": [
    "Supervised Learning\n",
    "\n",
    "Labeled dataset is a set of data with predictors (input variables) and output (response/target variables). Supervised learning is where you have such a dataset, and you are searching for the best representative function that link or map predictors to relevant target. With availability of response variables, we are able to compare prediction and actual label, and hence modification applied to reduce misprediction and improve model.\n",
    "\n",
    "Supervised learning problem can be split further into classification or regression problem according to type of output variables. A real-valued output variable, whether it is discrete or continuous, is a regression problem. A categorical output variable is classification problem. Algorithms applied should be appropriate to the corresponding categories of learning problem. Figure 1 gives examples for each category.\n",
    "\n",
    "Unsupervised Learning\n",
    "\n",
    "When we have unlabeled data, we are handling unsupervised learning problem. We are clueless whether we are clustering the data points/ tuples correctly. Therefore, challenge for unsupervised learning will be deciding point to stop learning and evaluation of model built. We are not working to do any prediction here, as ‘machine’ is not taught how to predict. Instead, we are exploring and reporting underlying insights and structure of data. Three typical areas applying unsupervised learning is clustering, dimensionality reduction and association analysis.\n",
    "\n",
    "Clustering is the situation where we are trying to capture the common characteristics between tuples in dataset and group them according to their similarities. Association analysis is conducted to find interesting hidden rules or relationships between tuples. When we have dataset with large input dimension, one will find smaller set of input variables to simplify or reduce original input dimension, preserving as much information as possible (minimum loss of information). Here is the point where dimensionality reduction is applied as crucial feature engineering step for more time efficient training.\n",
    "\n",
    "Semi-Supervised Learning\n",
    "\n",
    "This kind of learning lies in between supervised and unsupervised. It has mixture of labeled and unlabeled data with larger proportion for latter. Data available today is mostly of this form, as it is costly, time consuming, and requires expertise to get a huge data labeled. When such data is given, unsupervised learning technique is used and followed by supervised learning. Data is divided into clusters and missing labels are predicted. It is assumed that the data points in same cluster posing same or similar label, basic way to get the labels is by voting or average value among data falling in same cluster."
   ]
  },
  {
   "cell_type": "markdown",
   "id": "30a4667b-7adc-419b-af39-39e7a7aeb120",
   "metadata": {},
   "source": [
    "# Q6- What is train, test and validation split? Explain thK importance of each term."
   ]
  },
  {
   "cell_type": "markdown",
   "id": "73492cbb-d45a-4d9d-bc6e-03b6bed4bc36",
   "metadata": {},
   "source": [
    "Training Set: The dataset that we feed our model to learn potential underlying patterns and relationships.\n",
    "\n",
    "Validation Set: The dataset that we use to understand our model's performance across different model types and hyperparameter choices.\n",
    "\n",
    "Test Set: The dataset that we use to approximate our model's unbiased accuracy in the wild."
   ]
  },
  {
   "cell_type": "markdown",
   "id": "d54faf17-a648-45b0-8d55-af6b078b76df",
   "metadata": {},
   "source": [
    "# Q7- How can unsupervised learning be used in anomaly detecktion?"
   ]
  },
  {
   "cell_type": "markdown",
   "id": "1e187fd5-4746-4b24-babf-6b24a511b77a",
   "metadata": {},
   "source": [
    "Unsupervised Anomaly Detection: In this technique, the model learns to identify anomalies without prior knowledge of what constitutes normal behavior. It is useful when there are no labeled datasets available or when anomalies are rare and difficult to find."
   ]
  },
  {
   "cell_type": "markdown",
   "id": "7e7ecf45-e60a-4b33-aee8-50af626cc9ef",
   "metadata": {},
   "source": [
    "# Q8- List down some commonly used supervised learning algorithms and unsupervised learning algorithms."
   ]
  },
  {
   "cell_type": "markdown",
   "id": "009128b0-b5a6-4b4e-9a5a-a391ac175ef0",
   "metadata": {},
   "source": [
    "The most commonly used Supervised Learning algorithms are decision tree, logistic regression, linear regression, support vector machine.\n",
    "The most commonly used Unsupervised Learning algorithms are k-means clustering, hierarchical clustering, and apriori algorithm."
   ]
  }
 ],
 "metadata": {
  "kernelspec": {
   "display_name": "Python 3 (ipykernel)",
   "language": "python",
   "name": "python3"
  },
  "language_info": {
   "codemirror_mode": {
    "name": "ipython",
    "version": 3
   },
   "file_extension": ".py",
   "mimetype": "text/x-python",
   "name": "python",
   "nbconvert_exporter": "python",
   "pygments_lexer": "ipython3",
   "version": "3.10.8"
  }
 },
 "nbformat": 4,
 "nbformat_minor": 5
}
