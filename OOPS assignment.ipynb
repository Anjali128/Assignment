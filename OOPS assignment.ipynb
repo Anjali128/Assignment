{
 "cells": [
  {
   "cell_type": "markdown",
   "id": "70c33e8a-ee10-4e7d-a2b4-c92996214763",
   "metadata": {},
   "source": [
    "Q1, Create a vehicle class with an init method having instance variables as name_of_vehicle, max_speed\n",
    "and average_of_vehicle."
   ]
  },
  {
   "cell_type": "code",
   "execution_count": 24,
   "id": "5a9fc264-47b0-40b2-8008-28c879471677",
   "metadata": {},
   "outputs": [],
   "source": [
    "class vehicle :\n",
    "    def __init__(self,name_of_vehicle, max_speed, average_of_vehicle ):\n",
    "        self.name_of_vehicle = name_of_vehicle\n",
    "        self.max_speed = max_speed\n",
    "        self.average_of_vehicle = average_of_vehicle"
   ]
  },
  {
   "cell_type": "raw",
   "id": "0d73b865-33c1-4c09-a5d8-5b324a5c21f6",
   "metadata": {},
   "source": []
  },
  {
   "cell_type": "markdown",
   "id": "47a86a5a-5ccb-47af-a4c3-ea091a4a3c7d",
   "metadata": {},
   "source": [
    "Q2. Create a child class car from the vehicle class created in Que 1, which will inherit the vehicle class. Create a method named seating_capacity which takes capacity as an argument and returns the name of the vehicle and its seating capacity."
   ]
  },
  {
   "cell_type": "code",
   "execution_count": 30,
   "id": "08c20f86-b09b-4ef2-ba65-983901137c07",
   "metadata": {},
   "outputs": [
    {
     "data": {
      "text/plain": [
       "('KIA', 4)"
      ]
     },
     "execution_count": 30,
     "metadata": {},
     "output_type": "execute_result"
    }
   ],
   "source": [
    "class car (vehicle):\n",
    "    def seating_capacity (self,capacity):\n",
    "        self.capacity = capacity\n",
    "        return self.name_of_vehicle , self.capacity\n",
    "c=car(\"KIA\",100,50)\n",
    "c.seating_capacity(4)"
   ]
  },
  {
   "cell_type": "raw",
   "id": "95dd5bd8-a5c9-49d4-826c-9668ce9ed896",
   "metadata": {},
   "source": []
  },
  {
   "cell_type": "markdown",
   "id": "fe56b03c-ded9-4cde-a546-c856d62923b3",
   "metadata": {},
   "source": [
    "What is multiple inheritance? Write a python code to demonstrate multiple inheritance.\n",
    "Multiple inheritance is a feature of some object-oriented computer programming languages in which an object or class can inherit features from more than one parent object or parent class."
   ]
  },
  {
   "cell_type": "code",
   "execution_count": 31,
   "id": "75465915-040f-4616-a069-d407e45dba28",
   "metadata": {},
   "outputs": [
    {
     "data": {
      "text/plain": [
       "'Mother class'"
      ]
     },
     "execution_count": 31,
     "metadata": {},
     "output_type": "execute_result"
    }
   ],
   "source": [
    "class class1 ():\n",
    "    def test_class1 (self):\n",
    "        return \"Father class\"\n",
    "class class2 ():\n",
    "    def test_class2 (self):\n",
    "        return \"Mother class\"\n",
    "class class3 (class1 , class2):\n",
    "    pass  \n",
    "child = class3 ()\n",
    "child.test_class1()\n",
    "child.test_class2()"
   ]
  },
  {
   "cell_type": "raw",
   "id": "26a1ad22-3a49-4b77-9bf6-4addec6aed9d",
   "metadata": {},
   "source": []
  },
  {
   "cell_type": "markdown",
   "id": "86806bf4-eb6b-4d1c-8783-b33a770db7fd",
   "metadata": {},
   "source": [
    "Q4. What are getter and setter in python? Create a class and create a getter and a setter method in this class.\n",
    "Getter: A method that allows you to access an attribute in a given class. Setter: A method that allows you to set or mutate the value of an attribute in a class."
   ]
  },
  {
   "cell_type": "code",
   "execution_count": 32,
   "id": "7dfcfb2d-96e7-4c87-a584-796812975aab",
   "metadata": {},
   "outputs": [],
   "source": [
    "class car1 :\n",
    "    def __init__(self, year,make,model,speed):\n",
    "        self.__year = year               #all objects are hidden\n",
    "        self.__make = make\n",
    "        self.__model = model\n",
    "        self.__speed = 0\n",
    "        \n",
    "    def set_speed (self,speed):\n",
    "        self.__speed = 0 if speed <0 else speed\n",
    "    \n",
    "    def get_speed(self):\n",
    "        return self.__speed"
   ]
  },
  {
   "cell_type": "raw",
   "id": "ffde74fd-b92a-4ffe-92a1-88e321248c87",
   "metadata": {},
   "source": []
  },
  {
   "cell_type": "markdown",
   "id": "40b17744-61e6-4775-a786-589a4797edec",
   "metadata": {},
   "source": [
    "Q5.What is method overriding in python? Write a python code to demonstrate method overriding."
   ]
  },
  {
   "cell_type": "markdown",
   "id": "77d48d80-1fb8-4f7d-870d-3abdc05948a8",
   "metadata": {},
   "source": [
    "Method overriding is an ability of any object-oriented programming language that allows a subclass or child class to provide a specific implementation of a method that is already provided by one of its super-classes or parent classes. When a method in a subclass has the same name, same parameters or signature and same return type(or sub-type) as a method in its super-class, then the method in the subclass is said to override the method in the super-class."
   ]
  },
  {
   "cell_type": "code",
   "execution_count": 33,
   "id": "5a74bcd4-5d59-4ac2-9828-10cf9dc7aba0",
   "metadata": {},
   "outputs": [
    {
     "name": "stdout",
     "output_type": "stream",
     "text": [
      "Inside Parent\n",
      "Inside Child\n"
     ]
    }
   ],
   "source": [
    "class Parent():\n",
    "      \n",
    "    # Constructor\n",
    "    def __init__(self):\n",
    "        self.value = \"Inside Parent\"\n",
    "          \n",
    "    # Parent's show method\n",
    "    def show(self):\n",
    "        print(self.value)\n",
    "          \n",
    "# Defining child class\n",
    "class Child(Parent):\n",
    "      \n",
    "    # Constructor\n",
    "    def __init__(self):\n",
    "        self.value = \"Inside Child\"\n",
    "          \n",
    "    # Child's show method\n",
    "    def show(self):\n",
    "        print(self.value)\n",
    "        \n",
    "obj1 = Parent()\n",
    "obj2 = Child()\n",
    "  \n",
    "obj1.show()\n",
    "obj2.show()"
   ]
  },
  {
   "cell_type": "code",
   "execution_count": null,
   "id": "eac0b9f6-e811-4fc8-bfda-95fc05bf79d0",
   "metadata": {},
   "outputs": [],
   "source": []
  }
 ],
 "metadata": {
  "kernelspec": {
   "display_name": "Python 3 (ipykernel)",
   "language": "python",
   "name": "python3"
  },
  "language_info": {
   "codemirror_mode": {
    "name": "ipython",
    "version": 3
   },
   "file_extension": ".py",
   "mimetype": "text/x-python",
   "name": "python",
   "nbconvert_exporter": "python",
   "pygments_lexer": "ipython3",
   "version": "3.10.8"
  }
 },
 "nbformat": 4,
 "nbformat_minor": 5
}
