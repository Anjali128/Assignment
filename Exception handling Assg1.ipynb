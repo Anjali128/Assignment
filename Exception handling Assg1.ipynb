{
 "cells": [
  {
   "cell_type": "markdown",
   "id": "671e325f-c978-44db-a826-17ee9a530051",
   "metadata": {},
   "source": [
    "## Q1. What is an Exception in python? Write the differen between Exceptions and syntax errors"
   ]
  },
  {
   "cell_type": "markdown",
   "id": "5e64160a-3b73-4966-b876-bb18bae7f101",
   "metadata": {},
   "source": [
    "exceptions are raised when some internal events occur which changes the normal flow of the program. \n",
    "\n",
    "a.) Errors are caused by the environment in which the program is running. For example: When a JVM runs out of memory, OutOfMemoryError occurs.\n",
    "b.) Exceptions, on the other hand, are mainly caused by the bugs in a program.  For example: When an application tries to access a null object, NullPointerException occurs."
   ]
  },
  {
   "cell_type": "markdown",
   "id": "0c9cbc0b-f73f-46a4-b867-1ac42736dc28",
   "metadata": {},
   "source": [
    "## Q2. What happens when an exception is not handled? Explain with an example"
   ]
  },
  {
   "cell_type": "markdown",
   "id": "5891ef3e-1117-4547-a408-a544083ce738",
   "metadata": {},
   "source": [
    "If an exception is not caught (with a catch block), the runtime system will abort the program (i.e. crash) and an exception message will print to the console."
   ]
  },
  {
   "cell_type": "markdown",
   "id": "378cd335-10fb-4a3b-8f4a-78949936df6d",
   "metadata": {},
   "source": [
    "## Q3. Which Python statements are used to catch and handle exceptions? Explain with an example"
   ]
  },
  {
   "cell_type": "markdown",
   "id": "dcb9f3b5-011f-4aea-9f8f-bb2c1698cf81",
   "metadata": {},
   "source": [
    "Try & Except block"
   ]
  },
  {
   "cell_type": "markdown",
   "id": "dfd9ccdb-b5cc-4c71-a8d2-10a31707d98a",
   "metadata": {},
   "source": [
    "## Q4. Explain with an example:\n",
    "\n",
    "## try and else\n",
    "\n",
    "def divide(x, y):\n",
    "\ttry:\n",
    "\t\tresult = x // y\n",
    "\t\tprint(\"Yeah ! Your answer is :\", result)\n",
    "\texcept ZeroDivisionError:\n",
    "\t\tprint(\"Sorry ! You are dividing by zero \")\n",
    "    else:\n",
    "        print(\"execution successful\")\n",
    "\n",
    "divide(3, 2)\n",
    "divide(3, 0)\n",
    "\n",
    "## finally \n",
    "\n",
    "\n",
    "def divide(x, y):\n",
    "\ttry:\n",
    "\t\tresult = x // y\n",
    "\t\tprint(\"Yeah ! Your answer is :\", result)\n",
    "\texcept ZeroDivisionError:\n",
    "\t\tprint(\"Sorry ! You are dividing by zero \")\n",
    "    finally:\n",
    "        print(\"execution successful\")\n",
    "        \n",
    "## raise\n",
    "\n",
    "x=-1\n",
    "if x<0:\n",
    "    raise Exception (\"No numbers below 0\")"
   ]
  },
  {
   "cell_type": "markdown",
   "id": "31b0e913-673d-4f4f-b139-800af9fa99f3",
   "metadata": {},
   "source": [
    "## Q5. What are Custom Exceptions in python? Why do we need Custom Exceptions? Explain with an example"
   ]
  },
  {
   "cell_type": "markdown",
   "id": "7aff40c6-3e3d-4518-b326-5f2ae5d02e38",
   "metadata": {},
   "source": [
    "Sometimes based on project requirement, a programmer needs to create his own exceptions and raise explicitly for corresponding scenarios. Such types of exceptions are called customized Exceptions or Programmatic Exceptions. \n",
    "\n",
    "customized Exceptions is needed to add information about project-related problems. "
   ]
  },
  {
   "cell_type": "markdown",
   "id": "08058e80-d502-4193-b0e6-8a8a2a190edf",
   "metadata": {},
   "source": [
    "## Q6. Create a custom exception class . and Use this class to handle an exception. in python"
   ]
  },
  {
   "cell_type": "code",
   "execution_count": 4,
   "id": "1a3756b7-cab6-4898-b5cd-afd77fb030b6",
   "metadata": {},
   "outputs": [
    {
     "name": "stdin",
     "output_type": "stream",
     "text": [
      "Enter a number:  5\n"
     ]
    },
    {
     "name": "stdout",
     "output_type": "stream",
     "text": [
      "Exception occurred: Invalid Age\n"
     ]
    }
   ],
   "source": [
    "class InvalidAgeException(Exception):\n",
    "    \"Raised when the input value is less than 18\"\n",
    "    pass\n",
    "\n",
    "number = 18\n",
    "\n",
    "try:\n",
    "    input_num = int(input(\"Enter a number: \"))\n",
    "    if input_num < number:\n",
    "        raise InvalidAgeException\n",
    "    else:\n",
    "        print(\"Eligible to Vote\")\n",
    "        \n",
    "except InvalidAgeException:\n",
    "    print(\"Exception occurred: Invalid Age\")"
   ]
  },
  {
   "cell_type": "code",
   "execution_count": null,
   "id": "cdbb5d84-15e2-4747-ad22-7412ba896dfa",
   "metadata": {},
   "outputs": [],
   "source": []
  }
 ],
 "metadata": {
  "kernelspec": {
   "display_name": "Python 3 (ipykernel)",
   "language": "python",
   "name": "python3"
  },
  "language_info": {
   "codemirror_mode": {
    "name": "ipython",
    "version": 3
   },
   "file_extension": ".py",
   "mimetype": "text/x-python",
   "name": "python",
   "nbconvert_exporter": "python",
   "pygments_lexer": "ipython3",
   "version": "3.10.8"
  }
 },
 "nbformat": 4,
 "nbformat_minor": 5
}
