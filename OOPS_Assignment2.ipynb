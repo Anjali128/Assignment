{
 "cells": [
  {
   "cell_type": "markdown",
   "id": "47a4ded5-ff9d-430c-86ad-ed22d224a9b4",
   "metadata": {},
   "source": [
    "## Q1. What is Abstraction in OOps? Explain with an example."
   ]
  },
  {
   "cell_type": "markdown",
   "id": "ed9c01b0-3425-428a-92e2-38ecae30bf59",
   "metadata": {},
   "source": [
    "bstraction is used to hide the internal functionality of the function from the users. The users only interact with the basic implementation of the function, but inner working is hidden. "
   ]
  },
  {
   "cell_type": "markdown",
   "id": "ed5c87ed-e880-4a43-90f0-37c89e77ef34",
   "metadata": {},
   "source": [
    "## Q2. Differentiate between Abstraction and Encapsulation. Explain with an example."
   ]
  },
  {
   "cell_type": "markdown",
   "id": "79fb1bc0-f040-4b5f-9856-b9a7178b6f83",
   "metadata": {},
   "source": [
    "Abstraction is a process of hiding the implementation details of a system from the user, and only the functional details will be available to the user end. On the other hand, Encapsulation is a method of wrapping up the data and code acting on the data into a single unit.\n"
   ]
  },
  {
   "cell_type": "markdown",
   "id": "2474394b-25a5-4057-b37a-ab5e03d4b92d",
   "metadata": {},
   "source": [
    "## Q3. What is abc module in python? Why is it used?"
   ]
  },
  {
   "cell_type": "markdown",
   "id": "bee258a2-097c-4e78-a85a-9a11e30763fa",
   "metadata": {},
   "source": [
    "The 'abc' module in Python library provides the infrastructure for defining custom abstract base classes.\n",
    "\n",
    "'abc' works by marking methods of the base class as abstract."
   ]
  },
  {
   "cell_type": "markdown",
   "id": "5ca5b0c8-8440-4ced-a311-19f16ecac43d",
   "metadata": {},
   "source": [
    "## Q4. How can we achieve data abstraction?"
   ]
  },
  {
   "cell_type": "markdown",
   "id": "67f7639a-0a6a-4ace-9dfc-229313539926",
   "metadata": {},
   "source": [
    "Data Abstraction in Python can be achieved through creating abstract classes and inheriting them later. "
   ]
  },
  {
   "cell_type": "markdown",
   "id": "19d9e6b6-9c02-40fc-b2b6-6779ed7ca4b0",
   "metadata": {},
   "source": [
    "## Q5. Can we create an instance of an abstract class? Explain your answer."
   ]
  },
  {
   "cell_type": "markdown",
   "id": "c6b81f1e-5d20-429f-a223-9ca5b14caf0a",
   "metadata": {},
   "source": [
    "Abstract classes are not complete, as they may have some methods that are not defined. So we cannot create an instance or object of an abstract class in Python. If we try to instantiate the abstract class, it raises an error."
   ]
  },
  {
   "cell_type": "code",
   "execution_count": null,
   "id": "227affd7-070c-4a02-8e70-86b0152ae327",
   "metadata": {},
   "outputs": [],
   "source": []
  }
 ],
 "metadata": {
  "kernelspec": {
   "display_name": "Python 3 (ipykernel)",
   "language": "python",
   "name": "python3"
  },
  "language_info": {
   "codemirror_mode": {
    "name": "ipython",
    "version": 3
   },
   "file_extension": ".py",
   "mimetype": "text/x-python",
   "name": "python",
   "nbconvert_exporter": "python",
   "pygments_lexer": "ipython3",
   "version": "3.10.8"
  }
 },
 "nbformat": 4,
 "nbformat_minor": 5
}
