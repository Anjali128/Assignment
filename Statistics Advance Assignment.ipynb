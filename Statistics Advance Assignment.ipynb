{
 "cells": [
  {
   "cell_type": "markdown",
   "id": "4b34af3c-bc1f-46f4-ac23-22134b887cb9",
   "metadata": {},
   "source": [
    "# Q1. What is the Probability density function?"
   ]
  },
  {
   "cell_type": "markdown",
   "id": "cc2962a2-31df-41e8-ad2d-ce5574719b27",
   "metadata": {},
   "source": [
    "Probablity density function deals with the spread of data.\n",
    "\n",
    "it has three types:-\n",
    "Probablity density function,\n",
    "Probablity mass function,\n",
    "Cummulative distribution function"
   ]
  },
  {
   "cell_type": "markdown",
   "id": "ab50b624-f104-441a-926a-83f45c16e06c",
   "metadata": {},
   "source": [
    "# Q2. What are the types of Probability distribution?"
   ]
  },
  {
   "cell_type": "markdown",
   "id": "30b61686-43ce-416c-82ba-8c2e6626aecd",
   "metadata": {},
   "source": [
    "it has three types:-\n",
    "Probablity density function,\n",
    "Probablity mass function,\n",
    "Cummulative distribution function"
   ]
  },
  {
   "cell_type": "markdown",
   "id": "ca5aee72-8683-47ed-9760-82afd903fef5",
   "metadata": {},
   "source": [
    "# Q3. Write a Python function to calculate the probability density function of a normal distribution with given mean and standard deviation at a given point."
   ]
  },
  {
   "cell_type": "code",
   "execution_count": 2,
   "id": "495ed963-0b44-4cf1-b718-f83620a104ec",
   "metadata": {},
   "outputs": [
    {
     "name": "stdout",
     "output_type": "stream",
     "text": [
      "0.0804410163156249\n"
     ]
    }
   ],
   "source": [
    "from scipy.stats import norm \n",
    "import numpy as np \n",
    "\n",
    "data_start = -5\n",
    "data_end = 5\n",
    "data_points = 11\n",
    "data = np.linspace(data_start, data_end, data_points) \n",
    "\n",
    "mean = np.mean(data) \n",
    "std = np.std(data) \n",
    "\n",
    "probability_pdf = norm.pdf(3, loc=mean, scale=std) \n",
    "print(probability_pdf) "
   ]
  },
  {
   "cell_type": "markdown",
   "id": "a2959fdd-2040-4abf-bf4f-4850c731a13b",
   "metadata": {},
   "source": [
    "# Q4. What are the properties of Binomial distribution? Give two examples of events where binomial distribution can be applied."
   ]
  },
  {
   "cell_type": "markdown",
   "id": "abbb602f-deb6-434c-b65e-4f943c4b33e2",
   "metadata": {},
   "source": [
    "* Every experiment outcome is binary\n",
    "* Experiment is performed for n-trials\n",
    "* It means a group of Bernaullis distribution\n",
    "* eg- Tossing a coin 10 times"
   ]
  },
  {
   "cell_type": "markdown",
   "id": "d83b9edf-cf02-4a71-893b-5248aca5e060",
   "metadata": {},
   "source": [
    "# Q5. Generate a random sample of size 1000 from a binomial distribution with probability of success 0.4 and plot a histogram of the results using matplotlib."
   ]
  },
  {
   "cell_type": "code",
   "execution_count": 3,
   "id": "0e5de245-f211-4804-9182-04ffb7f4b95f",
   "metadata": {},
   "outputs": [],
   "source": [
    "n, p = 10, .4\n",
    "s = np.random.binomial(n, p, 1000)"
   ]
  },
  {
   "cell_type": "code",
   "execution_count": 4,
   "id": "05b2e291-7fec-409e-90b6-a13e27b89768",
   "metadata": {},
   "outputs": [],
   "source": [
    "import matplotlib.pyplot as plt"
   ]
  },
  {
   "cell_type": "code",
   "execution_count": 5,
   "id": "937575a5-8ad5-49da-be32-2a0acf81bb3c",
   "metadata": {},
   "outputs": [
    {
     "data": {
      "text/plain": [
       "(array([  8.,  31., 129., 205., 274., 198., 107.,  42.,   5.,   1.]),\n",
       " array([0. , 0.9, 1.8, 2.7, 3.6, 4.5, 5.4, 6.3, 7.2, 8.1, 9. ]),\n",
       " <BarContainer object of 10 artists>)"
      ]
     },
     "execution_count": 5,
     "metadata": {},
     "output_type": "execute_result"
    },
    {
     "data": {
      "image/png": "[encoded data removed]",
      "text/plain": [
       "<Figure size 640x480 with 1 Axes>"
      ]
     },
     "metadata": {},
     "output_type": "display_data"
    }
   ],
   "source": [
    "plt.hist(s)"
   ]
  },
  {
   "cell_type": "markdown",
   "id": "92ba4d64-a301-43b9-a96e-c475ccc17340",
   "metadata": {},
   "source": [
    "# Q6. Write a Python function to calculate the cumulative distribution function of a Poisson distribution with given mean at a given point."
   ]
  },
  {
   "cell_type": "code",
   "execution_count": 6,
   "id": "2f35dae3-4e5e-40ac-ad80-ea2565f2061e",
   "metadata": {},
   "outputs": [],
   "source": [
    "from scipy.stats import poisson"
   ]
  },
  {
   "cell_type": "code",
   "execution_count": 7,
   "id": "f2d58507-1391-4ccb-9600-6f05c422e314",
   "metadata": {},
   "outputs": [],
   "source": [
    "k = np.arange(0, 17)"
   ]
  },
  {
   "cell_type": "code",
   "execution_count": 8,
   "id": "605f632d-4db5-4450-ba4f-d59f79e03f84",
   "metadata": {},
   "outputs": [],
   "source": [
    "cdf = poisson.cdf(k, mu=7)"
   ]
  },
  {
   "cell_type": "markdown",
   "id": "9777c996-005e-4593-9ca2-205dc0fea95e",
   "metadata": {},
   "source": [
    "# Q7. How Binomial distribution different from Poisson distribution?"
   ]
  },
  {
   "cell_type": "markdown",
   "id": "56c076a0-5679-4a76-a628-3e9a6071eedf",
   "metadata": {},
   "source": [
    "* Binomial distribution is the one in which the number of outcomes are only 2 and whereas Poisson distribution is the one in which the number of outcomes are unlimited.\n",
    "* Binomial distribution is one in which the probability of repeated number of trials are studied.\tPoisson Distribution gives the count of independent events occur randomly with a given period of time.\n",
    "* Mean > Variance\tMean = Variance"
   ]
  },
  {
   "cell_type": "markdown",
   "id": "942fdc8a-2169-4c25-8326-007975aacce4",
   "metadata": {},
   "source": [
    "# Q8. Generate a random sample of size 1000 from a Poisson distribution with mean 5 and calculate the sample mean and variance."
   ]
  },
  {
   "cell_type": "code",
   "execution_count": 15,
   "id": "57b2493f-4a7b-4787-87ce-4892ac5b8a6c",
   "metadata": {},
   "outputs": [],
   "source": [
    "s = np.random.poisson(4,10000)"
   ]
  },
  {
   "cell_type": "code",
   "execution_count": 16,
   "id": "bcce98a7-3c88-4370-960d-eaaee41f45c6",
   "metadata": {},
   "outputs": [
    {
     "data": {
      "text/plain": [
       "3.9985"
      ]
     },
     "execution_count": 16,
     "metadata": {},
     "output_type": "execute_result"
    }
   ],
   "source": [
    "s.mean()"
   ]
  },
  {
   "cell_type": "code",
   "execution_count": 17,
   "id": "2758f0f1-6a6e-4397-a0d6-ebdbfa5b3844",
   "metadata": {},
   "outputs": [
    {
     "data": {
      "text/plain": [
       "3.91309775"
      ]
     },
     "execution_count": 17,
     "metadata": {},
     "output_type": "execute_result"
    }
   ],
   "source": [
    "s.var()"
   ]
  },
  {
   "cell_type": "markdown",
   "id": "1d6a9fe9-442b-437c-9dfa-ac89fe18eafb",
   "metadata": {},
   "source": [
    "# Q9. How mean and variance are related in Binomial distribution and Poisson distribution?"
   ]
  },
  {
   "cell_type": "markdown",
   "id": "f0d4f8d3-f3af-4955-9847-a8d9225b91e6",
   "metadata": {},
   "source": [
    " In Binomial distribution :-Mean > Variance\n",
    " \n",
    " and in passion distribution Mean = Variance"
   ]
  },
  {
   "cell_type": "markdown",
   "id": "99a0bc80-2fda-4537-b546-10c1c3368872",
   "metadata": {},
   "source": [
    "# Q10. In normal distribution with respect to mean position, where does the least frequent data appear?"
   ]
  },
  {
   "cell_type": "markdown",
   "id": "f5ca6a99-857a-41a3-80c9-fc6eae1edd6f",
   "metadata": {},
   "source": [
    "in the end"
   ]
  },
  {
   "cell_type": "code",
   "execution_count": null,
   "id": "1d66735e-9c01-4001-a3fc-b3840431b124",
   "metadata": {},
   "outputs": [],
   "source": []
  }
 ],
 "metadata": {
  "kernelspec": {
   "display_name": "Python 3 (ipykernel)",
   "language": "python",
   "name": "python3"
  },
  "language_info": {
   "codemirror_mode": {
    "name": "ipython",
    "version": 3
   },
   "file_extension": ".py",
   "mimetype": "text/x-python",
   "name": "python",
   "nbconvert_exporter": "python",
   "pygments_lexer": "ipython3",
   "version": "3.10.8"
  }
 },
 "nbformat": 4,
 "nbformat_minor": 5
}
