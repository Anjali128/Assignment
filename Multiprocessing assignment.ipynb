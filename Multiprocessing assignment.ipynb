{
 "cells": [
  {
   "cell_type": "markdown",
   "id": "c3f66b38-d66e-440a-a82e-3c48f6e83508",
   "metadata": {},
   "source": [
    "## Q1. What is multiprocessing in python? Why is it useful?\n",
    "\n",
    "Multiprocessing refers to running multiple processes simultaneously, which can be incredibly useful for speeding up your code and handling large datasets and tasks. For example, running an operation in parallel can divide a job into several smaller parts that can be processed simultaneously."
   ]
  },
  {
   "cell_type": "markdown",
   "id": "e218b09c-8ccf-4c10-ac8c-9e84542d27c1",
   "metadata": {},
   "source": [
    "## Q2. What are the differences between multiprocessing and multithreading?\n",
    "\n",
    "Multiprocessing uses two or more CPUs to increase computing power, whereas multithreading uses a single process with multiple code segments to increase computing power.\n",
    "\n",
    "Multithreading focuses on generating computing threads from a single process, whereas multiprocessing increases computing power by adding CPUs.\n",
    "\n",
    "Multiprocessing is used to create a more reliable system, whereas multithreading is used to create threads that run parallel to each other.\n",
    "\n",
    "multithreading is quick to create and requires few resources, whereas multiprocessing requires a significant amount of time and specific resources to create.\n",
    "\n",
    "Multiprocessing executes many processes simultaneously, whereas multithreading executes many threads simultaneously.\n",
    "Multithreading uses a common address space for all the threads, whereas multiprocessing creates a separate address space for each process."
   ]
  },
  {
   "cell_type": "markdown",
   "id": "7970e42f-64f1-444c-84d3-0119ea4b474f",
   "metadata": {},
   "source": [
    "## Q3. Write a python code to create a process using the multiprocessing module."
   ]
  },
  {
   "cell_type": "code",
   "execution_count": 3,
   "id": "46bd32e4-7fc2-439c-9d2b-28d3b19ad2a6",
   "metadata": {},
   "outputs": [
    {
     "name": "stdout",
     "output_type": "stream",
     "text": [
      "This is my main prog\n",
      "This is my multi processing prog\n"
     ]
    }
   ],
   "source": [
    "import multiprocessing\n",
    "def test():\n",
    "    print (\"This is my multi processing prog\")\n",
    "if __name__ == '__main__':\n",
    "    m =multiprocessing.Process(target = test)\n",
    "    print(\"This is my main prog\")\n",
    "    m.start()\n",
    "    m.join()"
   ]
  },
  {
   "cell_type": "markdown",
   "id": "32cddf68-babc-49fc-8237-f45e15a91464",
   "metadata": {},
   "source": [
    "## Q4. What is a multiprocessing pool in python? Why is it used?\n",
    "\n",
    "A process pool is a programming pattern for automatically managing a pool of worker processes.\n",
    "\n",
    "The pool is responsible for a fixed number of processes.\n",
    "\n",
    "It controls when they are created, such as when they are needed.\n",
    "It also controls what they should do when they are not being used, such as making them wait without consuming computational resources."
   ]
  },
  {
   "cell_type": "markdown",
   "id": "178a5166-cace-4d38-a74a-8a40e337de66",
   "metadata": {},
   "source": [
    "## Q5. How can we create a pool of worker processes in python using the multiprocessing module?\n",
    "\n",
    "We can configure the number of worker processes in the multiprocessing.pool.Pool by setting the “processes” argument in the constructor.\n",
    "\n",
    "By default this equals the number of logical CPUs in your system.\n",
    "\n",
    "processes is the number of worker processes to use. If processes is None then the number returned by os.cpu_count() is used.\n",
    "\n",
    "— MULTIPROCESSING — PROCESS-BASED PARALLELISM\n",
    "For example, if we had 4 physical CPU cores with hyperthreading, this would mean we would have 8 logical CPU cores and this would be the default number of workers in the process pool.\n",
    "\n",
    "We can set the “processes” argument to specify the number of child processes to create and use as workers in the process pool."
   ]
  },
  {
   "cell_type": "markdown",
   "id": "c776d625-8241-4fc8-95ca-3c8906737c70",
   "metadata": {},
   "source": [
    "## Q6. Write a python program to create 4 processes, each process should print a different number using the multiprocessing module in python."
   ]
  },
  {
   "cell_type": "code",
   "execution_count": 8,
   "id": "3670891e-5623-45de-8bd2-4c55525a902d",
   "metadata": {},
   "outputs": [
    {
     "name": "stdout",
     "output_type": "stream",
     "text": [
      "This is my first program\n",
      "1st random num  56\n",
      "1972nd random num  \n",
      "3rd random num  2374th random num \n",
      " 331\n"
     ]
    }
   ],
   "source": [
    "import multiprocessing\n",
    "import random\n",
    "\n",
    "def num1 ():\n",
    "    print(\"1st random num \",random.randint(1,100))\n",
    "def num2 ():\n",
    "    print(\"2nd random num \",random.randint(101,200))\n",
    "def num3 ():\n",
    "    print(\"3rd random num \",random.randint(201,300))\n",
    "def num4 ():\n",
    "    print(\"4th random num \",random.randint(301,400))\n",
    "    \n",
    "if __name__ == \"__main__\":\n",
    "   \n",
    "    print(\"This is my first program\")\n",
    "    m1 = multiprocessing.Process(target= num1)\n",
    "    m2 = multiprocessing.Process(target= num2)\n",
    "    m3 = multiprocessing.Process(target= num3)\n",
    "    m4 = multiprocessing.Process(target= num4)\n",
    "    \n",
    "    m1.start()\n",
    "    m2.start()\n",
    "    m3.start()\n",
    "    m4.start()\n",
    "    \n",
    "    m1.join()\n",
    "    m2.join()\n",
    "    m3.join()\n",
    "    m4.join()\n",
    "    "
   ]
  },
  {
   "cell_type": "code",
   "execution_count": null,
   "id": "d6074d32-28c0-4fb6-ac64-d6f813618a3b",
   "metadata": {},
   "outputs": [],
   "source": [
    "import multiprocessing\n",
    "import random\n",
    "\n",
    "def num1 ():\n",
    "    print(\"1st random num \",random.randint(1,100))\n",
    "def num2 ():\n",
    "    print(\"2nd random num \",random.randint(101,200))\n",
    "def num3 ():\n",
    "    print(\"3rd random num \",random.randint(201,300))\n",
    "def num4 ():\n",
    "    print(\"4th random num \",random.randint(301,400))\n",
    "    \n",
    "if __name__ == \"__main__\":\n",
    "   \n",
    "    print(\"This is my first program\")\n",
    "    m1 = multiprocessing.Process(target= num1)\n",
    "    m2 = multiprocessing.Process(target= num2)\n",
    "    m3 = multiprocessing.Process(target= num3)\n",
    "    m4 = multiprocessing.Process(target= num4)\n",
    "    \n",
    "    m1.start()\n",
    "    m1.join()\n",
    "    m2.start()\n",
    "    m3.start()\n",
    "    m4.start()\n",
    "    \n",
    "    \n",
    "    \n",
    "    m3.join()\n",
    "    m4.join()\n",
    "    "
   ]
  }
 ],
 "metadata": {
  "kernelspec": {
   "display_name": "Python 3 (ipykernel)",
   "language": "python",
   "name": "python3"
  },
  "language_info": {
   "codemirror_mode": {
    "name": "ipython",
    "version": 3
   },
   "file_extension": ".py",
   "mimetype": "text/x-python",
   "name": "python",
   "nbconvert_exporter": "python",
   "pygments_lexer": "ipython3",
   "version": "3.10.8"
  }
 },
 "nbformat": 4,
 "nbformat_minor": 5
}
