{
 "cells": [
  {
   "cell_type": "markdown",
   "id": "9b375b1e-f68b-4b85-a567-d8ce23534c81",
   "metadata": {},
   "source": [
    "## Q1. What is an API? Give an example, where an API is used in real life."
   ]
  },
  {
   "cell_type": "markdown",
   "id": "091f1925-2cc9-4c0d-910c-da78e3619737",
   "metadata": {},
   "source": [
    "APIs allow developers to sync data between multiple platforms and can facilitate communication among the various microservices in web applications.\n",
    "\n",
    "an API can be used to connect virtually any processes. Here are a few common examples of APIs:\n",
    "\n",
    "Sharing flight information between airlines and travel sites\n",
    "Using Google Maps in a rideshare app"
   ]
  },
  {
   "cell_type": "markdown",
   "id": "6c8636e7-ffa5-4813-a848-3fae4bdbf304",
   "metadata": {},
   "source": [
    "Q2. Give advantages and disadvantages of using API."
   ]
  },
  {
   "cell_type": "markdown",
   "id": "58792be3-9cfe-47d0-b066-59eec6281eef",
   "metadata": {},
   "source": [
    "Advantages of using API :-\n",
    "1. Improved performance\n",
    "2. Simplified system design\n",
    "3. Enhanced security\n",
    "4. Improved scalability\n",
    "5. Better monitoring and visibility\n",
    "\n",
    "Disadvantages of using API Gateway :-\n",
    "1. Additional Complexity\n",
    "2. Single Point of Failure\n",
    "3. Latency\n",
    "4. Vendor Lock-in\n"
   ]
  },
  {
   "cell_type": "markdown",
   "id": "95ea6ecd-e25e-43aa-8ae5-55891e5fac59",
   "metadata": {},
   "source": [
    "## Q3. What is a Web API? Differentiate between API and Web API."
   ]
  },
  {
   "cell_type": "markdown",
   "id": "97be2246-0621-423c-9707-4b246a4ecf90",
   "metadata": {},
   "source": [
    "A Web API is an application programming interface for the Web.\n",
    "\n",
    "Web services require SOAP and XML to transfer data over a network, while APIs can use any protocols or design patterns.\n",
    "\n",
    "APIs allow applications to communicate, while web services allow machines to communicate.\n",
    "\n",
    "Web Services requires a network connection while APIs may or may not require a network for their operability.\n",
    "\n",
    "Web services require SOAP and XML, which are no longer the most popular standard.\n",
    "\n",
    "APIs are more efficient, with RESTful web services offering a more light-weight architecture web services are heavy.\n",
    "\n",
    "Web services only support HTTP as a backbone, while APIs are more flexible."
   ]
  },
  {
   "cell_type": "markdown",
   "id": "d2ef5f99-cd03-45b4-8c00-198f8a532c89",
   "metadata": {},
   "source": [
    "## Q4. Explain REST and SOAP Architecture. Mention shortcomings of SOAP."
   ]
  },
  {
   "cell_type": "markdown",
   "id": "1916e8b2-ac8a-4e82-9e38-8b988b92dbfb",
   "metadata": {},
   "source": [
    "SOAP stands for Simple Object Access Protocol and REST stands for Representational State Transfer.\n",
    "Since SOAP is a protocol, it follows a strict standard to allow communication between the client and the server whereas REST is an architectural style that doesn’t follow any strict standard but follows six constraints defined by Roy Fielding in 2000. Those constraints are – Uniform Interface, Client-Server, Stateless, Cacheable, Layered System, Code on Demand.\n",
    "SOAP uses only XML for exchanging information in its message format whereas REST is not restricted to XML and its the choice of implementer which Media-Type to use like XML, JSON, Plain-text. Moreover, REST can use SOAP protocol but SOAP cannot use REST."
   ]
  },
  {
   "cell_type": "markdown",
   "id": "cd7c3e28-60a3-41cf-a562-b536f1bb27be",
   "metadata": {},
   "source": [
    "## Q5. Differentiate between REST and SOAP."
   ]
  },
  {
   "cell_type": "markdown",
   "id": "04478372-f5f1-4c8f-8b7e-27715b4c641e",
   "metadata": {},
   "source": [
    "SOAP uses only XML for exchanging information in its message format whereas REST is not restricted to XML and its the choice of implementer which Media-Type to use like XML, JSON, Plain-text. Moreover, REST can use SOAP protocol but SOAP cannot use REST.\n",
    "\n",
    "On behalf of services interfaces to business logic, SOAP uses @WebService whereas REST instead of using interfaces uses URI like @Path.\n",
    "\n",
    "SOAP is difficult to implement and it requires more bandwidth whereas REST is easy to implement and requires less bandwidth such as smartphones.\n",
    "\n",
    "Benefits of SOAP over REST as SOAP has ACID compliance transaction. Some of the applications require transaction ability which is accepted by SOAP whereas REST lacks in it.\n",
    "\n",
    "On the basis of Security, SOAP has SSL( Secure Socket Layer) and WS-security whereas REST has SSL and HTTPS. In the case of Bank Account Password, Card Number, etc. SOAP is preferred over REST. The security issue is all about your application requirement, you have to build security on your own. It’s about what type of protocol you use.\n",
    "\n",
    "SOAP cannot make use of REST since SOAP is a protocol without any architectural pattern. REST can make use of SOAP because it is an architectural pattern having protocol."
   ]
  },
  {
   "cell_type": "code",
   "execution_count": null,
   "id": "28f3b7f5-0aee-4a1c-bfe2-75537611e4cb",
   "metadata": {},
   "outputs": [],
   "source": []
  }
 ],
 "metadata": {
  "kernelspec": {
   "display_name": "Python 3 (ipykernel)",
   "language": "python",
   "name": "python3"
  },
  "language_info": {
   "codemirror_mode": {
    "name": "ipython",
    "version": 3
   },
   "file_extension": ".py",
   "mimetype": "text/x-python",
   "name": "python",
   "nbconvert_exporter": "python",
   "pygments_lexer": "ipython3",
   "version": "3.10.8"
  }
 },
 "nbformat": 4,
 "nbformat_minor": 5
}
