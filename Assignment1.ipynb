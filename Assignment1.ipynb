{
 "cells": [
  {
   "cell_type": "markdown",
   "id": "1232d55b-b3e4-42d0-97f1-f6b44f073549",
   "metadata": {},
   "source": [
    "Q1. Create one variable containing following type of data:\n",
    "(i) string\n",
    "(ii) list\n",
    "(iii) float\n",
    "(iv) tuple"
   ]
  },
  {
   "cell_type": "code",
   "execution_count": 2,
   "id": "3a1ffb43-c25e-40c0-818e-889419be827b",
   "metadata": {},
   "outputs": [
    {
     "name": "stdout",
     "output_type": "stream",
     "text": [
      "<class 'str'>\n",
      "<class 'list'>\n",
      "<class 'float'>\n",
      "<class 'tuple'>\n"
     ]
    }
   ],
   "source": [
    "s=\"Anjali\"\n",
    "l=[5,6,7,3]\n",
    "f=56.2\n",
    "t=(8,6,7,2)\n",
    "print(type(s))\n",
    "print(type(l))\n",
    "print(type(f))\n",
    "print(type(t))"
   ]
  },
  {
   "cell_type": "code",
   "execution_count": null,
   "id": "54f6cd6e-ed1d-4138-931a-7d89cf53b196",
   "metadata": {},
   "outputs": [],
   "source": []
  },
  {
   "cell_type": "markdown",
   "id": "31f5f19c-38d1-4fa3-b88a-0abfd45a1532",
   "metadata": {},
   "source": [
    "Q2. Given are some following variables containing data:\n",
    "\n",
    "\n",
    "(i) var1 = ‘ ‘                                  - string\n",
    "(ii) var2 = ‘[ DS , ML , Python]’               - error\n",
    "(iii) var3 = [ ‘DS’ , ’ML’ , ‘Python’ ]         - List\n",
    "(iv) var4 = 1.                                  -int\n",
    "\n"
   ]
  },
  {
   "cell_type": "code",
   "execution_count": null,
   "id": "ec0d1e92-29ab-48db-8dae-4ab32d086699",
   "metadata": {},
   "outputs": [],
   "source": []
  },
  {
   "cell_type": "markdown",
   "id": "5674b93e-bc98-4342-b7f6-f1d0c93b9495",
   "metadata": {},
   "source": [
    "Q3. Explain the use of the following operators using an example:\n",
    "\n",
    "(i) /     It returns the quotient after dividing the first operand by the second operand. \n",
    "          For example, if a = 20, b = 10 => a/b = 2.0\n",
    "          \n",
    "(ii) %    It returns the reminder after dividing the first operand by the second operand. \n",
    "          For example, if a = 20, b = 10 => a%b = 0\n",
    "          \n",
    "(iii) //  It provides the quotient's floor value, which is obtained by dividing the two operands.\n",
    "\n",
    "(iv) **   As it calculates the first operand's power to the second operand, it is an exponent operator."
   ]
  },
  {
   "cell_type": "code",
   "execution_count": null,
   "id": "0483f8a5-cc26-4258-b039-91d4b1e365e3",
   "metadata": {},
   "outputs": [],
   "source": []
  },
  {
   "cell_type": "markdown",
   "id": "18bb1b04-5d8d-40a8-a417-1001fe7d641a",
   "metadata": {},
   "source": [
    "Q4. Create a list of length 10 of your choice containing multiple types of data. Using for loop print the\n",
    "element and its data type.\n"
   ]
  },
  {
   "cell_type": "code",
   "execution_count": 9,
   "id": "36b02040-f372-4d86-a33f-2d0e6e22d67b",
   "metadata": {},
   "outputs": [
    {
     "name": "stdout",
     "output_type": "stream",
     "text": [
      "5 <class 'int'>\n",
      "Anjali <class 'str'>\n",
      "22.5 <class 'float'>\n",
      "(65+8j) <class 'complex'>\n",
      "700430 <class 'int'>\n",
      "Female <class 'str'>\n",
      "52.4 <class 'float'>\n",
      "(5+6j) <class 'complex'>\n",
      "55 <class 'int'>\n",
      "5.5 <class 'float'>\n"
     ]
    }
   ],
   "source": [
    "l=[5, \"Anjali\", 22.5, 65+8j, 700430, \"Female\", 52.4, 5+6j , 55, 5.5]\n",
    "for i in l:\n",
    "    print(i ,type(i))  \n"
   ]
  },
  {
   "cell_type": "raw",
   "id": "0ec6096d-4cd5-4bcc-ba20-0aa6e07ddc1a",
   "metadata": {},
   "source": []
  },
  {
   "cell_type": "markdown",
   "id": "c2796b52-3a57-4d4c-98e0-64094ba502dd",
   "metadata": {},
   "source": [
    "Q5. Using a while loop, verify if the number A is purely divisible by number B and if so then how many times it can be divisible."
   ]
  },
  {
   "cell_type": "code",
   "execution_count": 2,
   "id": "e2747401-f05f-49eb-baa4-d432e780bbb5",
   "metadata": {},
   "outputs": [
    {
     "name": "stdin",
     "output_type": "stream",
     "text": [
      " 42\n",
      " 7\n"
     ]
    },
    {
     "name": "stdout",
     "output_type": "stream",
     "text": [
      "42 is divisible by 7 in 6.0 times\n"
     ]
    }
   ],
   "source": [
    "a=int(input())\n",
    "b=int(input())\n",
    "while a%b == 0:\n",
    "    c=a/b\n",
    "    print(str(a)+\" is divisible by \"+str(b)+\" in \"+ str(c)+\" times\")\n",
    "    break\n",
    "else:\n",
    "    print(\"not divisible\")"
   ]
  },
  {
   "cell_type": "code",
   "execution_count": null,
   "id": "852f6587-681b-4828-ac7e-33c46ec548f4",
   "metadata": {},
   "outputs": [],
   "source": []
  },
  {
   "cell_type": "markdown",
   "id": "6735a211-5f99-42fc-a6be-b9970740feaa",
   "metadata": {},
   "source": [
    "Q6. Create a list containing 25 int type data. Using for loop and if-else condition print if the element is divisible by 3 or not."
   ]
  },
  {
   "cell_type": "code",
   "execution_count": 35,
   "id": "f66814f2-2036-4bc5-a3e7-2f63219308e6",
   "metadata": {},
   "outputs": [
    {
     "name": "stdout",
     "output_type": "stream",
     "text": [
      "2 not divisible by 3 \n",
      "4 not divisible by 3 \n",
      "9 is divisible by 3\n",
      "6 is divisible by 3\n",
      "8 not divisible by 3 \n",
      "10 not divisible by 3 \n",
      "12 is divisible by 3\n",
      "14 not divisible by 3 \n",
      "6 is divisible by 3\n",
      "354 is divisible by 3\n",
      "21 is divisible by 3\n",
      "34 not divisible by 3 \n",
      "56 not divisible by 3 \n",
      "87 is divisible by 3\n",
      "64 not divisible by 3 \n",
      "49 not divisible by 3 \n",
      "65 not divisible by 3 \n",
      "87 is divisible by 3\n",
      "35 not divisible by 3 \n",
      "96 is divisible by 3\n",
      "38 not divisible by 3 \n",
      "23 not divisible by 3 \n",
      "99 is divisible by 3\n",
      "59 not divisible by 3 \n",
      "77 not divisible by 3 \n"
     ]
    }
   ],
   "source": [
    "l=[ 2, 4, 9, 6, 8, 10,12,14,6,354,21,34,56,87,64,49,65,87,35,96,38,23,99,59,77 ]\n",
    "for i in  l :\n",
    "    if i%3 == 0:\n",
    "        print (str(i) + \" is divisible by 3\") \n",
    "    else:\n",
    "        print(str(i) + \" not divisible by 3 \")"
   ]
  },
  {
   "cell_type": "markdown",
   "id": "03efd3fc-98dc-4fd6-a3e3-a8e2c71b19af",
   "metadata": {},
   "source": [
    "Q7. What do you understand about mutable and immutable data types? Give examples for both showing this property.\n",
    "\n",
    "-> Mutable data type is a type of data whose index value can be changed . eg:- list .   \n",
    "   ImMutable data type is a type of data whose index value can not be changed . eg:- string."
   ]
  },
  {
   "cell_type": "code",
   "execution_count": null,
   "id": "cee2e379-2568-412b-93eb-eb4a873b0ce9",
   "metadata": {},
   "outputs": [],
   "source": []
  }
 ],
 "metadata": {
  "kernelspec": {
   "display_name": "Python 3 (ipykernel)",
   "language": "python",
   "name": "python3"
  },
  "language_info": {
   "codemirror_mode": {
    "name": "ipython",
    "version": 3
   },
   "file_extension": ".py",
   "mimetype": "text/x-python",
   "name": "python",
   "nbconvert_exporter": "python",
   "pygments_lexer": "ipython3",
   "version": "3.10.8"
  }
 },
 "nbformat": 4,
 "nbformat_minor": 5
}
