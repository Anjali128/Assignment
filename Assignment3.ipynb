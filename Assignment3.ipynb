{
 "cells": [
  {
   "cell_type": "markdown",
   "id": "da7f95de-dd5f-4030-b4a9-34ad34f3f789",
   "metadata": {},
   "source": [
    "Q1. Which keyword is used to create a function? Create a function to return a list of odd numbers in the\n",
    "range of 1 to 25."
   ]
  },
  {
   "cell_type": "code",
   "execution_count": 1,
   "id": "c2f45fc7-87c7-4258-9076-bb2647321a80",
   "metadata": {},
   "outputs": [
    {
     "data": {
      "text/plain": [
       "[1, 3, 5, 7, 9, 11, 13, 15, 17, 19, 21, 23, 25]"
      ]
     },
     "execution_count": 1,
     "metadata": {},
     "output_type": "execute_result"
    }
   ],
   "source": [
    "# def keyword is used to create a function\n",
    "l=[]\n",
    "#n = int (input())\n",
    "def odd(n):\n",
    "    for i in range(n):\n",
    "        if i%2 !=0:\n",
    "            l.append(i)\n",
    "    return(l)\n",
    "odd(26)"
   ]
  },
  {
   "cell_type": "raw",
   "id": "68f31eba-80d7-4b51-bf48-5ef45fb933de",
   "metadata": {},
   "source": []
  },
  {
   "cell_type": "markdown",
   "id": "6ce2ec5e-aa40-4f5b-81d6-834d582fb38c",
   "metadata": {},
   "source": [
    "Q2. Why *args and **kwargs is used in some functions? Create a function each for *args and **kwargs\n",
    "to demonstrate their use."
   ]
  },
  {
   "cell_type": "markdown",
   "id": "8cf5161f-3d10-40d5-a327-d6d095aa2bb3",
   "metadata": {},
   "source": [
    "args is used to pass n number of argument in a function  while kwargs is used to pass key value pairs in form of dictionary in a function"
   ]
  },
  {
   "cell_type": "code",
   "execution_count": 2,
   "id": "62684b7a-15b3-4b4d-aa2b-51278d8c0203",
   "metadata": {},
   "outputs": [],
   "source": [
    "def normal (*args):\n",
    "    return args"
   ]
  },
  {
   "cell_type": "code",
   "execution_count": 3,
   "id": "379a49b9-72ed-47cf-bb6e-bcd5ad95f216",
   "metadata": {},
   "outputs": [
    {
     "data": {
      "text/plain": [
       "(5, 1, 2, 7, 9)"
      ]
     },
     "execution_count": 3,
     "metadata": {},
     "output_type": "execute_result"
    }
   ],
   "source": [
    "normal (5,1,2,7,9)"
   ]
  },
  {
   "cell_type": "code",
   "execution_count": 4,
   "id": "8bf913eb-2d83-4a56-9a2f-87ce86a90e8a",
   "metadata": {},
   "outputs": [],
   "source": [
    "def dict (**kwargs):\n",
    "    return kwargs"
   ]
  },
  {
   "cell_type": "code",
   "execution_count": 5,
   "id": "f0b403fa-b9d6-40f5-afd1-fcd83bc5996c",
   "metadata": {},
   "outputs": [
    {
     "data": {
      "text/plain": [
       "{'a': 8, 'b': [4, 6, 8], 'c': (5, 6, 1)}"
      ]
     },
     "execution_count": 5,
     "metadata": {},
     "output_type": "execute_result"
    }
   ],
   "source": [
    "dict(a=8,b=[4,6,8],c=(5,6,1))"
   ]
  },
  {
   "cell_type": "raw",
   "id": "80fef23d-e085-413a-a0da-fa7d958d8427",
   "metadata": {},
   "source": []
  },
  {
   "cell_type": "raw",
   "id": "86697943-5c1e-4e7c-ab03-3c6edb67fd3c",
   "metadata": {},
   "source": [
    "Q3. What is an iterator in python? Name the method used to initialise the iterator object and the method\n",
    "used for iteration. Use these methods to print the first five elements of the given list [2, 4, 6, 8, 10, 12, 14,\n",
    "16, 18, 20]."
   ]
  },
  {
   "cell_type": "code",
   "execution_count": 6,
   "id": "1c4f91f9-9824-409d-8aab-a7903998f2ee",
   "metadata": {},
   "outputs": [
    {
     "name": "stdout",
     "output_type": "stream",
     "text": [
      "2\n",
      "4\n",
      "6\n",
      "8\n",
      "10\n"
     ]
    }
   ],
   "source": [
    "#  An iterator in Python is an object that contains a countable number of elements that can be iterated upon\n",
    "# next is used to initialise the iterator object and iter method used for iteration\n",
    "l=[2, 4, 6, 8, 10, 12, 14,16, 18, 20]\n",
    "def five():\n",
    "    for i in l:\n",
    "        while i<l[5] :\n",
    "            yield i\n",
    "            break\n",
    "a=five()\n",
    "for i in range (5):\n",
    "    print (next(a))"
   ]
  },
  {
   "cell_type": "raw",
   "id": "3e3a56ab-1818-48f4-ac21-102367e19b40",
   "metadata": {},
   "source": []
  },
  {
   "cell_type": "raw",
   "id": "dc9b2ea6-b054-4fd0-a1a9-91c6d892b131",
   "metadata": {},
   "source": [
    "Q4. What is a generator function in python? Why yield keyword is used? Give an example of a generator function."
   ]
  },
  {
   "cell_type": "markdown",
   "id": "2479ead4-8f90-49f8-abe4-950782b6a901",
   "metadata": {},
   "source": [
    "A Python generator function allows you to declare a function that behaves like an iterator, providing a faster and easier way to create iterators. yield keyword is used to create a generator function.\n",
    "def five():\n",
    "    for i in l:\n",
    "        while i<l[5] :\n",
    "            yield i\n",
    "            break\n",
    "a=five()\n",
    "for i in range (5):\n",
    "    print (next(a))"
   ]
  },
  {
   "cell_type": "code",
   "execution_count": null,
   "id": "6df8e7e7-c29b-4b88-bfca-19358792488f",
   "metadata": {},
   "outputs": [],
   "source": []
  },
  {
   "cell_type": "markdown",
   "id": "ef3ddea2-64e8-4ef1-9748-58d9c76f1fe2",
   "metadata": {},
   "source": [
    "Q5. Create a generator function for prime numbers less than 1000. Use the next() method to print the first 20 prime numbers."
   ]
  },
  {
   "cell_type": "code",
   "execution_count": 22,
   "id": "79b66035-60b0-47a4-bc60-3e7263e9dcec",
   "metadata": {},
   "outputs": [],
   "source": [
    "def prime ():\n",
    "    for num in range(1,1001):\n",
    "        if num > 1:\n",
    "            for i in range(2,num):\n",
    "                if (num % i) == 0:\n",
    "                    break\n",
    "            else:\n",
    "                yield num"
   ]
  },
  {
   "cell_type": "code",
   "execution_count": 25,
   "id": "fec97805-9617-47d8-bbfc-7029e6499e78",
   "metadata": {},
   "outputs": [
    {
     "name": "stdout",
     "output_type": "stream",
     "text": [
      "2\n",
      "3\n",
      "5\n",
      "7\n",
      "11\n",
      "13\n",
      "17\n",
      "19\n",
      "23\n",
      "29\n",
      "31\n",
      "37\n",
      "41\n",
      "43\n",
      "47\n",
      "53\n",
      "59\n",
      "61\n",
      "67\n",
      "71\n"
     ]
    }
   ],
   "source": [
    "p=prime()\n",
    "for i in range (20):\n",
    "    print(next(p))"
   ]
  },
  {
   "cell_type": "raw",
   "id": "44f3863c-8f79-4651-86a5-dcda0b7a207d",
   "metadata": {},
   "source": []
  },
  {
   "cell_type": "markdown",
   "id": "4a3f367a-095a-4535-be41-e3881d01d562",
   "metadata": {},
   "source": [
    "Q6. Write a python program to print the first 10 Fibonacci numbers using a while loop."
   ]
  },
  {
   "cell_type": "code",
   "execution_count": 1,
   "id": "2fede5ac-d659-4291-9e8a-0af668c51793",
   "metadata": {},
   "outputs": [],
   "source": [
    "def fib (n):\n",
    "    a,b=0,1\n",
    "    for i in range (n):\n",
    "        yield a\n",
    "        a,b=b,a+b        "
   ]
  },
  {
   "cell_type": "code",
   "execution_count": 2,
   "id": "2a38d072-2fdd-4362-a087-f3e8eee4fb26",
   "metadata": {},
   "outputs": [
    {
     "name": "stdout",
     "output_type": "stream",
     "text": [
      "0\n",
      "1\n",
      "1\n",
      "2\n",
      "3\n",
      "5\n",
      "8\n",
      "13\n",
      "21\n",
      "34\n"
     ]
    }
   ],
   "source": [
    "for i in fib(10):\n",
    "    print (i)"
   ]
  },
  {
   "cell_type": "raw",
   "id": "26605184-96df-420b-b7a7-6816e13968b4",
   "metadata": {},
   "source": []
  },
  {
   "cell_type": "markdown",
   "id": "81398943-aafc-4b47-8719-08c16e22c0ac",
   "metadata": {},
   "source": [
    "Q7. Write a List Comprehension to iterate through the given string: ‘pwskills’.\n",
    "Expected output: ['p', 'w', 's', 'k', 'i', 'l', 'l', 's']"
   ]
  },
  {
   "cell_type": "code",
   "execution_count": 10,
   "id": "2970ed05-337e-438c-b58c-35a2eadb07ca",
   "metadata": {},
   "outputs": [
    {
     "data": {
      "text/plain": [
       "['p', 'w', 's', 'k', 'i', 'l', 'l', 's']"
      ]
     },
     "execution_count": 10,
     "metadata": {},
     "output_type": "execute_result"
    }
   ],
   "source": [
    "s1=\"pwskills\"\n",
    "s=iter(s1)\n",
    "l=[]\n",
    "def prog():\n",
    "    for i in range (len(s1)):\n",
    "        s2=next(s)\n",
    "        l.append(s2)\n",
    "    return l\n",
    "prog()"
   ]
  },
  {
   "cell_type": "raw",
   "id": "7b5ed9dd-080c-44fd-9585-f58380445baa",
   "metadata": {},
   "source": []
  },
  {
   "cell_type": "markdown",
   "id": "c23ed611-52f9-4b4e-b8a2-582f435bbabc",
   "metadata": {},
   "source": [
    "Q8. Write a python program to check whether a given number is Palindrome or not using a while loop."
   ]
  },
  {
   "cell_type": "code",
   "execution_count": 11,
   "id": "33698803-7e86-42af-b95d-b7abce9946ea",
   "metadata": {},
   "outputs": [
    {
     "name": "stdin",
     "output_type": "stream",
     "text": [
      "Enter number: 441\n"
     ]
    },
    {
     "name": "stdout",
     "output_type": "stream",
     "text": [
      "The number isn't a palindrome!\n"
     ]
    }
   ],
   "source": [
    "n=int(input(\"Enter number:\"))\n",
    "temp=n\n",
    "rev=0\n",
    "while(n>0):\n",
    "    dig=n%10\n",
    "    rev=rev*10+dig\n",
    "    n=n//10\n",
    "if(temp==rev):\n",
    "    print(\"The number is a palindrome!\")\n",
    "else:\n",
    "    print(\"The number isn't a palindrome!\")"
   ]
  },
  {
   "cell_type": "raw",
   "id": "ba9fffee-01a3-43e1-9305-dba50277cc1e",
   "metadata": {},
   "source": []
  },
  {
   "cell_type": "markdown",
   "id": "2602f143-28e6-4625-816c-64a9972feba2",
   "metadata": {},
   "source": [
    "Q9. Write a code to print odd numbers from 1 to 100 using list comprehension."
   ]
  },
  {
   "cell_type": "code",
   "execution_count": null,
   "id": "c71cbf2a-46e2-45ee-8ee2-36c430f165b6",
   "metadata": {},
   "outputs": [],
   "source": [
    "l=[]\n",
    "for i in range (1,101):\n",
    "    if (i%2 != 0):\n",
    "        "
   ]
  }
 ],
 "metadata": {
  "kernelspec": {
   "display_name": "Python 3 (ipykernel)",
   "language": "python",
   "name": "python3"
  },
  "language_info": {
   "codemirror_mode": {
    "name": "ipython",
    "version": 3
   },
   "file_extension": ".py",
   "mimetype": "text/x-python",
   "name": "python",
   "nbconvert_exporter": "python",
   "pygments_lexer": "ipython3",
   "version": "3.10.8"
  }
 },
 "nbformat": 4,
 "nbformat_minor": 5
}
