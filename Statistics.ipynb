{
 "cells": [
  {
   "cell_type": "markdown",
   "id": "950f459d-109b-4717-b3ef-ee4ec1bea95f",
   "metadata": {},
   "source": [
    "# Q1. What is Statistics?"
   ]
  },
  {
   "cell_type": "markdown",
   "id": "890c9db2-d257-4fe4-b85b-7017dcd731dc",
   "metadata": {},
   "source": [
    "Statistics is the study of the collection, analysis, interpretation, presentation, and organization of data"
   ]
  },
  {
   "cell_type": "markdown",
   "id": "eb91e917-8464-4d05-9ca0-4bc73108510e",
   "metadata": {},
   "source": [
    "# Q2. Define the different types of statistics and give an example of when each type might be used."
   ]
  },
  {
   "cell_type": "markdown",
   "id": "52a3a842-d467-402f-8c88-4442e4f13b8a",
   "metadata": {},
   "source": [
    "The two major areas of statistics are known as descriptive statistics, which describes the properties of sample and population data, and inferential statistics, which uses those properties to test hypotheses and draw conclusions."
   ]
  },
  {
   "cell_type": "markdown",
   "id": "9653df86-cda2-4d0b-add6-ff2ec0295b48",
   "metadata": {},
   "source": [
    "# Q3. What are the different types of data and how do they differ from each other? Provide an example of each type of data."
   ]
  },
  {
   "cell_type": "markdown",
   "id": "005710c3-a16c-4157-9a8e-4c982b412d7d",
   "metadata": {},
   "source": [
    "Quantitative data\n",
    "Quantitative data refers to variables with quantifiable and numerical values. Also known as numerical data, quantitative data deals with numbers and information that can be measured objectively. Analysts use this data for mathematical calculations and statistical analysis.\n",
    "\n",
    "In turn, companies use results from data analysis to make real-life business decisions. Quantitative data can also be verified and evaluated. It also answers the questions “how many,” “how often,” and “how much.” Examples of quantitative data include temperature, prices, and dimensions like height, width, and length.\n",
    "\n",
    "Furthermore, numeric variables can be continuous or discrete. Discrete data only accepts integers. The values can’t be subdivided into smaller parts. For instance, the number of students in a program is discrete data because you can only count whole individuals. Obviously, you can’t have certain values like 1.5 or 2.5 kids.\n",
    "\n",
    "Qualitative data\n",
    "qualitative data is descriptive and can’t be counted or measured using numbers. This is also why it’s called categorical data—because the information can be sorted by category, not by number. In data science and statistics, qualitative data deals with characteristics and descriptors that can be observed subjectively.\n",
    "\n",
    "When you classify or judge something based on smell, taste, and texture, for example, you create categorical data. Examples of qualitative data include language, nationality, and the names of countries. ‍"
   ]
  },
  {
   "cell_type": "markdown",
   "id": "ab8d1c3a-1278-47c9-a620-1659ff5eefd4",
   "metadata": {},
   "source": [
    "Q4. Categorise the following datasets with respect to quantitative and qualitative data types:\n",
    "\n",
    "(i) Grading in exam: A+, A, B+, B, C+, C, D, E -> qualitative data\n",
    "\n",
    "(ii) Colour of mangoes: yellow, green, orange, red -> qualitative data\n",
    "\n",
    "(iii) Height data of a class: [178.9, 179, 179.5, 176, 177.2, 178.3, 175.8,...]  -> quantitative data\n",
    "\n",
    "(iv) Number of mangoes exported by a farm: [500, 600, 478, 672, ...] -> quantitative data"
   ]
  },
  {
   "cell_type": "markdown",
   "id": "985125c9-ee64-4a8a-8df7-b72b81749796",
   "metadata": {},
   "source": [
    "# Q5. Explain the concept of levels of measurement and give an example of a variable for each level."
   ]
  },
  {
   "cell_type": "markdown",
   "id": "b0aa44a5-7628-4398-8d39-24c75348e3a3",
   "metadata": {},
   "source": [
    "1. Nominal measurement\n",
    "Nominal measurement organizes data by labeling items in mutually exclusive categories. While this level of measurement is incompatible with ordering and data calculations, it can help provide basic information about distinctions between your data. For instance, consider a marketing analyst who collects information from consumers. The analyst can categorize the data into categories like:\n",
    "\n",
    "Gender\n",
    "Ethnicity\n",
    "Marital status\n",
    "Income level\n",
    "Nominal data often contains the least amount of information content because it's the lowest level of measurement. As such, you can use nominal measurement to categorize data without a ranking order. Sometimes, nominal data can result in only two characteristics, such as equal and unequal. In these cases, you can apply this level of measurement to evaluate binary results, like a single input and output. In practical applications, nominal measurement is effective for grouping variables in demographic surveys, sociological research and even business and marketing analytics where there may be no apparent ranking to the data.\n",
    "\n",
    "2. Ordinal measurement\n",
    "With ordinal measurement, you can categorize data that appear to have a set order. The ordinal level of measurement uses a specific order to rank data, such as from least to greatest value or first to fifth place. Financial analysis often relies on ordinal measurement to place certain data in various specific orders. For instance, businesses can measure sales numbers and gross revenue over an accounting period, where the data may follow chronological order from month to month. Ordinal measurement is effective for data that requires a specific order when conducting your evaluation.\n",
    "\n",
    "Ordinal measurement builds on nominal data, where your variables have a specific order or rank. You can use ordinal measurement to classify data with the established order and where the order isn't interchangeable. Additionally, ordinal measurement only ranks data and doesn't account for the distance between data points, which means higher levels of measurement would be necessary for calculating metrics such as variance, distribution and other measures of central tendency. For example, if you're evaluating scores from a survey or assessment, you can use the ordinal level to rank your data according to a specific hierarchy.\n",
    "\n",
    "3. Interval measurement\n",
    "Interval measurement gives meaningful divisions to ordered data that remain the same between different values. For instance, you might use an interval measurement to calculate ranges within data sets, such as taking the temperature outside. When measuring the temperature, the difference between 85 degrees and 90 degrees is the same as the difference between 65 degrees and 70 degrees. This difference gives you an interval of five, which means no matter where in your ordered data you take an interval measure, it remains the same between the various data.\n",
    "\n",
    "You can use interval measurements to give metrics to data values. You can then take various calculations that give numeric information, such as standard deviations, variances, means and distributions. For instance, many analysts in finance and business management may use interval measurement to evaluate specific metrics where zero means a nonexistent variable, like the differences between current and past revenue numbers. You might also use interval measurement when establishing the scale of a statistical model, like a graph or chart.\n",
    "\n",
    "4. Ratio measurement\n",
    "In data analysis, some methods of evaluation apply zero as something that has no value, especially for nominal and ordered numeric data and when using interval measurements. In ratio measurement, though, zero becomes meaningful as a value to represent something within your data set. For example, a financial analyst may use the ratio measurement to compare historical accounting records where a value of zero indicates $0 in sales, revenue or another financial metric the analyst may want to measure.\n",
    "\n",
    "Ratio measurement is the highest level of evaluation and allows you to apply a range of calculations to work with the metrics you gather in your analysis. Building on interval measurement, ratio analysis defines zero as an existing variable that can affect statistical outcomes. For example, you might use ratio measurement when comparing two or more values in a data set. In this case, you might measure values that are \"twice as much than\" or \"three times less than\" other values, giving you a ratio to refer to when applying additional statistical calculations."
   ]
  },
  {
   "cell_type": "markdown",
   "id": "8ced1174-7357-4ea2-b2fa-1ddcb4e604f7",
   "metadata": {},
   "source": [
    "# Q6. Why is it important to understand the level of measurement when analyzing data? Provide an example to illustrate your answer."
   ]
  },
  {
   "cell_type": "markdown",
   "id": "0e7de2d2-399e-45b0-b567-c9e76e833411",
   "metadata": {},
   "source": [
    "The level at which you measure a variable determines how you can analyze your data. Depending on the level of measurement, you can perform different descriptive statistics to get an overall summary of your data and inferential statistics to see if your results support or refute your hypothesis."
   ]
  },
  {
   "cell_type": "markdown",
   "id": "df7672b4-1919-467d-9979-0ca5e3048df9",
   "metadata": {},
   "source": [
    "# Q7. How nominal data type is different from ordinal data type."
   ]
  },
  {
   "cell_type": "markdown",
   "id": "2d25104f-cc69-4f58-ac23-fa8a986076ec",
   "metadata": {},
   "source": [
    "Ordinal data falls between these two extremes. Unlike its nominal cousin, ordinal categories have a rank structure. On the other hand, unlike its ratio-scale cousin, distances between ordinal ranks do not need to be equal or even standardized between rank levels. "
   ]
  },
  {
   "cell_type": "markdown",
   "id": "0aa997b1-3efa-4746-b494-43b6e0b22aa5",
   "metadata": {},
   "source": [
    "# Q8. Which type of plot can be used to display data in terms of range?"
   ]
  },
  {
   "cell_type": "markdown",
   "id": "30ba9f79-5a91-4995-927f-a700a31852e4",
   "metadata": {},
   "source": [
    "scatterplot"
   ]
  },
  {
   "cell_type": "markdown",
   "id": "0e329fb4-2bc9-4ad1-8c43-b4711115c856",
   "metadata": {},
   "source": [
    "# Q9. Describe the difference between descriptive and inferential statistics. Give an example of each type of statistics and explain how they are used."
   ]
  },
  {
   "cell_type": "markdown",
   "id": "da1c37c6-0cbf-4092-8320-b872af794198",
   "metadata": {},
   "source": [
    "While descriptive statistics summarize the characteristics of a data set, inferential statistics help you come to conclusions and make predictions based on your data.\n",
    "\n",
    "When you have collected data from a sample, you can use inferential statistics to understand the larger population from which the sample is taken."
   ]
  },
  {
   "cell_type": "markdown",
   "id": "e8fadb69-75f5-477f-b692-8c6db41794ad",
   "metadata": {},
   "source": [
    "# Q10. What are some common measures of central tendency and variability used in statistics? Explain how each measure can be used to describe a dataset."
   ]
  },
  {
   "cell_type": "markdown",
   "id": "95ec2c59-89d2-4a16-bf41-379d1d7ba9f3",
   "metadata": {},
   "source": []
  }
 ],
 "metadata": {
  "kernelspec": {
   "display_name": "Python 3 (ipykernel)",
   "language": "python",
   "name": "python3"
  },
  "language_info": {
   "codemirror_mode": {
    "name": "ipython",
    "version": 3
   },
   "file_extension": ".py",
   "mimetype": "text/x-python",
   "name": "python",
   "nbconvert_exporter": "python",
   "pygments_lexer": "ipython3",
   "version": "3.10.8"
  }
 },
 "nbformat": 4,
 "nbformat_minor": 5
}
