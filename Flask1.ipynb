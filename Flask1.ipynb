{
 "cells": [
  {
   "cell_type": "markdown",
   "id": "70e71fc3-8145-47f9-aa52-d351d2168db4",
   "metadata": {},
   "source": [
    "## Q1. What is Flask Framework? What are the advantages of Flask Framework?"
   ]
  },
  {
   "cell_type": "markdown",
   "id": "bd66bb26-63a1-4ad3-825c-b5db383cd1fc",
   "metadata": {},
   "source": [
    "Flask is a web framework that allows developers to build lightweight web applications quickly and easily with Flask Libraries. It was developed by Armin Ronacher, leader of the International Group of Python Enthusiasts(POCCO). It is basically based on the WSGI toolkit and Jinja2 templating engine.\n",
    "\n",
    "Advantages of Flask:\n",
    "\n",
    " Flask is a lightweight backend framework with minimal dependencies.\n",
    " \n",
    " Flask is easy to learn because its simple and intuitive API makes it easy to learn and use for beginners.\n",
    " \n",
    " Flask is a flexible Framework because it allows you to customize and extend the framework to suit your needs easily."
   ]
  },
  {
   "cell_type": "markdown",
   "id": "f7251e35-02ec-4104-a9c2-fd4caa3b1b4e",
   "metadata": {},
   "source": [
    "## Q2. Create a simple Flask application to display ‘Hello World!!’. Attach the screenshot of the output in Jupyter Notebook."
   ]
  },
  {
   "cell_type": "markdown",
   "id": "1b10dc14-7fb7-44a0-9803-fbbd4b7106a4",
   "metadata": {},
   "source": [
    "## Q3. What is App routing in Flask? Why do we use app routes?"
   ]
  },
  {
   "cell_type": "markdown",
   "id": "0bade555-e643-4403-b1f4-4e5835a4700f",
   "metadata": {},
   "source": [
    "App Routing means mapping the URLs to a specific function that will handle the logic for that URL. Modern web frameworks use more meaningful URLs to help users remember the URLs and make navigation simpler. "
   ]
  },
  {
   "cell_type": "markdown",
   "id": "a2bf7a72-8815-4479-a721-54b1ca252e82",
   "metadata": {},
   "source": [
    "## Q5. What function is used in Flask for URL Building? Write a Python code to demonstrate the working of the url_for() function."
   ]
  },
  {
   "cell_type": "code",
   "execution_count": null,
   "id": "271b2942-f8e9-4b2b-a25b-b23e070102e0",
   "metadata": {},
   "outputs": [],
   "source": []
  }
 ],
 "metadata": {
  "kernelspec": {
   "display_name": "Python 3 (ipykernel)",
   "language": "python",
   "name": "python3"
  },
  "language_info": {
   "codemirror_mode": {
    "name": "ipython",
    "version": 3
   },
   "file_extension": ".py",
   "mimetype": "text/x-python",
   "name": "python",
   "nbconvert_exporter": "python",
   "pygments_lexer": "ipython3",
   "version": "3.10.8"
  }
 },
 "nbformat": 4,
 "nbformat_minor": 5
}
