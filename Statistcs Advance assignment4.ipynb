{
 "cells": [
  {
   "cell_type": "markdown",
   "id": "0d1309db-f07b-4b52-b5c8-83148a4c6ed4",
   "metadata": {},
   "source": [
    "# Q1: What is the difference between a t-test and a z-test? Provide an example scenario where you would use each type of test."
   ]
  },
  {
   "cell_type": "markdown",
   "id": "78046fe2-0cc3-4950-b977-4da4e7d88aad",
   "metadata": {},
   "source": [
    "* Z-test -> Populaton standard is known & used to test twopopulation means\n",
    "eg- Here, let’s say we want to know if Girls on an average score 10 marks more than the boys. We have the information that the standard deviation for girls’ Score is 100 and for boys’ score is 90. Then we collect the data of 20 girls and 20 boys by using random samples and record their marks. Finally, we also set our ⍺ value (significance level) to be 0.05.\n",
    "\n",
    "* t-test -> unknown popoulation standard & used to test 1 population mean\n",
    "eg- Here, let’s say we want to determine if on average, boys score 15 marks more than girls in the exam. We do not have the information related to variance (or standard deviation) for girls’ scores or boys’ scores. To perform a t-test. we randomly collect the data of 10 girls and boys with their marks. We choose our ⍺ value (significance level) to be 0.05 as the criteria for Hypothesis Testing."
   ]
  },
  {
   "cell_type": "markdown",
   "id": "05e14b23-cfd1-4103-8b7e-d45357faac78",
   "metadata": {},
   "source": [
    "# Q2: Differentiate between one-tailed and two-tailed tests."
   ]
  },
  {
   "cell_type": "markdown",
   "id": "1689dc8f-e6ec-4127-b50b-68055f524e07",
   "metadata": {},
   "source": [
    "* The main difference between these two types of tests is that two-tailed tests can show evidence that the control and variation are different, whereas one-tailed tests can show evidence if variation is better than the control.\n",
    "\n",
    "* One-tailed tests allow for the possibility of an effect in one direction. Two-tailed tests test for the possibility of an effect in two directions—positive and negative."
   ]
  },
  {
   "cell_type": "markdown",
   "id": "1df534d7-ab04-4426-b3eb-0f9097834167",
   "metadata": {},
   "source": [
    "# Q3: Explain the concept of Type 1 and Type 2 errors in hypothesis testing. Provide an example scenario for each type of error."
   ]
  },
  {
   "cell_type": "markdown",
   "id": "a3ebb0fc-0252-4a3a-816e-c843388ca80b",
   "metadata": {},
   "source": [
    "A type I error (false-positive) occurs if an investigator rejects a null hypothesis that is actually true in the population; a type II error (false-negative) occurs if the investigator fails to reject a null hypothesis that is actually false in the population.\n",
    "\n",
    "* Example: Type I vs Type II error:-\n",
    "You decide to get tested for COVID-19 based on mild symptoms. There are two errors that could potentially occur:\n",
    "Type I error (false positive): the test result says you have coronavirus, but you actually don’t.\n",
    "Type II error (false negative): the test result says you don’t have coronavirus, but you actually do."
   ]
  },
  {
   "cell_type": "markdown",
   "id": "96045ef5-cc7b-4a81-8483-12fcff017b73",
   "metadata": {},
   "source": [
    "# Q4: Explain Bayes's theorem with an example."
   ]
  },
  {
   "cell_type": "markdown",
   "id": "23b41a62-5a6d-4328-bf05-7ea9bec93160",
   "metadata": {},
   "source": [
    "Bay's Theorem is used for the calculation of a conditional probability where intuition often fails. Although widely used in probability, the theorem is being applied in the machine learning field too. Its use in machine learning includes the fitting of a model to a training dataset and developing classification models. \n",
    " \n",
    "Bayes theorem gives the probability of an “event” with the given information on “tests”.\n",
    "\n",
    "There is a difference between “events” and “tests”. For example there is a test for liver disease, which is different from actually having the liver disease, i.e. an event.\n",
    "Rare events might be having a higher false positive rate.\n",
    "\n"
   ]
  },
  {
   "cell_type": "markdown",
   "id": "d74d5d9e-78e6-469e-9dd8-7325b5fb165c",
   "metadata": {},
   "source": [
    "# Q5: What is a confidence interval? How to calculate the confidence interval, explain with an example."
   ]
  },
  {
   "cell_type": "markdown",
   "id": "e7f96520-dc07-42ac-85af-d864aef16a32",
   "metadata": {},
   "source": [
    "A confidence interval gives a range where we think a certain number (like an average) lies for the whole population, based on our sample data. The “confidence level” (like 95%) is how sure we are that this range includes the true value.\n",
    "\n",
    "You survey 100 Brits and 100 Americans about their television-watching habits, and find that both groups watch an average of 35 hours of television per week.\n",
    "However, the British people surveyed had a wide variation in the number of hours watched, while the Americans all watched similar amounts.\n",
    "\n",
    "Even though both groups have the same point estimate (average number of hours watched), the British estimate will have a wider confidence interval than the American estimate because there is more variation in the data."
   ]
  },
  {
   "cell_type": "markdown",
   "id": "7b412b3f-7e75-4e90-88cd-4e05291b163f",
   "metadata": {},
   "source": [
    "# Q6. Use Bayes' Theorem to calculate the probability of an event occurring given prior knowledge of the event's probability and new evidence. Provide a sample problem and solution."
   ]
  },
  {
   "cell_type": "markdown",
   "id": "cd7ab22a-8db0-4444-91ca-8aa0b47ac166",
   "metadata": {},
   "source": [
    "Problem\n",
    "\n",
    "Three boxes labeled as A, B, and C, are present. Details of the boxes are:\n",
    "\n",
    "Box A contains 2 red and 3 black balls\n",
    "Box B contains 3 red and 1 black ball\n",
    "And box C contains 1 red ball and 4 black balls\n",
    "All the three boxes are identical having an equal probability to be picked up. Therefore, what is the probability that the red ball was picked up from box A?\n",
    "\n",
    "Solution\n",
    "\n",
    "Let E denote the event that a red ball is picked up and A, B and C denote that the ball is picked up from their respective boxes. Therefore the conditional probability would be P(A|E) which needs to be calculated.\n",
    "\n",
    "The existing probabilities P(A) = P(B) = P (C) = 1 / 3, since all boxes have equal probability of getting picked.\n",
    "\n",
    "P(E|A) = Number of red balls in box A / Total number of balls in box A = 2 / 5\n",
    "\n",
    "Similarly, P(E|B) = 3 / 4 and P(E|C) = 1 / 5\n",
    "\n",
    "Then evidence P(E) = P(E|A)*P(A) + P(E|B)*P(B) + P(E|C)*P(C) \n",
    "\n",
    "                   = (2/5) * (1/3) + (3/4) * (1/3) + (1/5) * (1/3) = 0.45\n",
    "\n",
    "Therefore, P(A|E) = P(E|A) * P(A) / P(E) = (2/5) * (1/3) / 0.45 = 0.296"
   ]
  },
  {
   "cell_type": "markdown",
   "id": "81251787-d6e1-4732-be49-a8ca83569e80",
   "metadata": {},
   "source": [
    "# Q7. Calculate the 95% confidence interval for a sample of data with a mean of 50 and a standard deviation of 5. Interpret the results."
   ]
  },
  {
   "cell_type": "markdown",
   "id": "5e0e2c8f-01ab-43d6-b628-8abec0f74037",
   "metadata": {},
   "source": [
    "insufficient data (Sample size)"
   ]
  },
  {
   "cell_type": "markdown",
   "id": "76ddbd42-1c0f-47db-82ab-2ce411ed7331",
   "metadata": {},
   "source": [
    "# Q8. What is the margin of error in a confidence interval? How does sample size affect the margin of error? \"Provide an example of a scenario where a larger sample size would result in a smaller margin of error."
   ]
  },
  {
   "cell_type": "markdown",
   "id": "cdf5e7cd-7145-47c0-9838-7c1e4b26fb0b",
   "metadata": {},
   "source": [
    "A margin of error tells you how many percentage points your results will differ from the real population value. For example, a 95% confidence interval with a 4 percent margin of error means that your statistic will be within 4 percentage points of the real population value 95% of the time.\n",
    "\n",
    "It is intuitive that a greater sample size will be a closer representative of the population than a smaller sample size. Hence, the larger the sample size, the smaller the sample standard error and therefore the smaller the margin of error"
   ]
  },
  {
   "cell_type": "markdown",
   "id": "0c66beba-58ec-48ce-a8e4-a869346cae27",
   "metadata": {},
   "source": [
    "# Q9. Calculate the z-score for a data point with a value of 75, a population mean of 70, and a population standard deviation of 5. Interpret the results."
   ]
  },
  {
   "cell_type": "markdown",
   "id": "fb368393-7306-48ea-8131-f96748880a22",
   "metadata": {},
   "source": [
    "x=75  , mean= 70 , std=5\n",
    "z-score  = (x-mean)/std\n",
    "         = (75-70)/5\n",
    "         =1\n"
   ]
  },
  {
   "cell_type": "markdown",
   "id": "bd122240-f67f-4a28-b272-a6ab4fb99868",
   "metadata": {},
   "source": [
    "# Q10. In a study of the effectiveness of a new weight loss drug, a sample of 50 participants lost an average of 6 pounds with a standard deviation of 2.5 pounds. Conduct a hypothesis test to determine if the drug is significantly effective at a 95% confidence level using a t-test."
   ]
  },
  {
   "cell_type": "markdown",
   "id": "c9e19dc9-33b4-447a-8412-fd596509deef",
   "metadata": {},
   "source": [
    "n=50 , μ=0 , x̄ =6 , std=2.5 , ci=95% \n",
    "\n",
    "h0= m=6\n",
    "h1= m!= 6\n",
    "\n",
    "alpha =0.05\n",
    "\n",
    "dof = 49\n",
    "\n",
    "t=( x̄ - μ)/ s/(n)^1/2\n",
    "t=6/ 0.35\n",
    "t=17.14\n",
    "\n",
    "since t>2.0452\n",
    "so we will reject null hypothesis"
   ]
  },
  {
   "cell_type": "markdown",
   "id": "f6d693cb-e162-4841-b2f6-5b9bea0cb75c",
   "metadata": {},
   "source": [
    "# Q11. In a survey of 500 people, 65% reported being satisfied with their current job. Calculate the 95% confidence interval for the true proportion of people who are satisfied with their job."
   ]
  },
  {
   "cell_type": "markdown",
   "id": "a4b2959b-9bc1-49cc-a6e4-ddd29a925fcb",
   "metadata": {},
   "source": [
    "# Q12. A researcher is testing the effectiveness of two different teaching methods on student performance. Sample A has a mean score of 85 with a standard deviation of 6, while sample B has a mean score of 82 with a standard deviation of 5. Conduct a hypothesis test to determine if the two teaching methods have a significant difference in student performance using a t-test with a significance level of 0.01."
   ]
  },
  {
   "cell_type": "markdown",
   "id": "8cee2054-91b4-47ee-b4e6-34fe0ab0370f",
   "metadata": {},
   "source": [
    "For A;\n",
    "n=50 , μ=85 , x̄ =6 , std=6 , ci=95% "
   ]
  },
  {
   "cell_type": "markdown",
   "id": "c2be4f43-324f-43ab-8f22-3b042bcbc19c",
   "metadata": {},
   "source": []
  },
  {
   "cell_type": "markdown",
   "id": "280dba19-526c-4c87-85a2-0c9b69900d37",
   "metadata": {},
   "source": []
  }
 ],
 "metadata": {
  "kernelspec": {
   "display_name": "Python 3 (ipykernel)",
   "language": "python",
   "name": "python3"
  },
  "language_info": {
   "codemirror_mode": {
    "name": "ipython",
    "version": 3
   },
   "file_extension": ".py",
   "mimetype": "text/x-python",
   "name": "python",
   "nbconvert_exporter": "python",
   "pygments_lexer": "ipython3",
   "version": "3.10.8"
  }
 },
 "nbformat": 4,
 "nbformat_minor": 5
}
