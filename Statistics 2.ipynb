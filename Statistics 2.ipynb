{
 "cells": [
  {
   "cell_type": "markdown",
   "id": "0d26aade-e180-48a4-80a0-2a1679ec292f",
   "metadata": {},
   "source": [
    "# Q1. What are the three measures of central tendency?"
   ]
  },
  {
   "cell_type": "markdown",
   "id": "ce05cade-09c8-46b9-ac33-cecd4282dae8",
   "metadata": {},
   "source": [
    "Mean , median,mode"
   ]
  },
  {
   "cell_type": "markdown",
   "id": "9fb8dd50-232c-4db8-91a4-fa33f8fd3119",
   "metadata": {},
   "source": [
    "# Q2. What is the difference between the mean, median, and mode? How are they used to measure the central tendency of a dataset?"
   ]
  },
  {
   "cell_type": "markdown",
   "id": "de5cc5f2-45a8-46c8-ae52-fefe4603d427",
   "metadata": {},
   "source": [
    "The 3 most common measures of central tendency are the mean, median and mode. The mode is the most frequent value. The median is the middle number in an ordered data set. The mean is the sum of all values divided by the total number of values"
   ]
  },
  {
   "cell_type": "markdown",
   "id": "565e85c2-1999-4533-9683-28f23f285cee",
   "metadata": {},
   "source": [
    "# Q3. Measure the three measures of central tendency for the given height data:\n",
    "\n",
    "[178,177,176,177,178.2,178,175,179,180,175,178.9,176.2,177,172.5,178,176.5]"
   ]
  },
  {
   "cell_type": "code",
   "execution_count": 1,
   "id": "3b6d8afe-983c-45f7-a466-f2ef78253e6e",
   "metadata": {},
   "outputs": [],
   "source": [
    "d=[178,177,176,177,178.2,178,175,179,180,175,178.9,176.2,177,172.5,178,176.5]"
   ]
  },
  {
   "cell_type": "code",
   "execution_count": 5,
   "id": "b7c31540-bf1e-47de-be77-a323b22c2687",
   "metadata": {},
   "outputs": [],
   "source": [
    "import numpy as np"
   ]
  },
  {
   "cell_type": "code",
   "execution_count": 6,
   "id": "eaccfa3c-048b-4541-8194-9ad69f13e728",
   "metadata": {},
   "outputs": [
    {
     "data": {
      "text/plain": [
       "177.01875"
      ]
     },
     "execution_count": 6,
     "metadata": {},
     "output_type": "execute_result"
    }
   ],
   "source": [
    "np.mean(d)"
   ]
  },
  {
   "cell_type": "code",
   "execution_count": 7,
   "id": "45db7f2b-d030-49cf-9ea1-c0a179d469d9",
   "metadata": {},
   "outputs": [
    {
     "data": {
      "text/plain": [
       "177.0"
      ]
     },
     "execution_count": 7,
     "metadata": {},
     "output_type": "execute_result"
    }
   ],
   "source": [
    "np.median(d)"
   ]
  },
  {
   "cell_type": "code",
   "execution_count": 12,
   "id": "8d9c54a7-8b93-4ea7-b279-f2f15cb1a250",
   "metadata": {},
   "outputs": [],
   "source": [
    "from scipy import stats"
   ]
  },
  {
   "cell_type": "code",
   "execution_count": 13,
   "id": "05f81ba9-ec57-420f-871c-602af74c26ec",
   "metadata": {},
   "outputs": [
    {
     "name": "stderr",
     "output_type": "stream",
     "text": [
      "/tmp/ipykernel_1077/3857837850.py:1: FutureWarning: Unlike other reduction functions (e.g. `skew`, `kurtosis`), the default behavior of `mode` typically preserves the axis it acts along. In SciPy 1.11.0, this behavior will change: the default value of `keepdims` will become False, the `axis` over which the statistic is taken will be eliminated, and the value None will no longer be accepted. Set `keepdims` to True or False to avoid this warning.\n",
      "  stats.mode(d)\n"
     ]
    },
    {
     "data": {
      "text/plain": [
       "ModeResult(mode=array([177.]), count=array([3]))"
      ]
     },
     "execution_count": 13,
     "metadata": {},
     "output_type": "execute_result"
    }
   ],
   "source": [
    "stats.mode(d)"
   ]
  },
  {
   "cell_type": "markdown",
   "id": "3ab269bf-2d40-4de9-9d89-b2f2b0ee83f6",
   "metadata": {},
   "source": []
  },
  {
   "cell_type": "markdown",
   "id": "7180f9d9-ffda-43cd-9264-dc5348252df4",
   "metadata": {},
   "source": [
    "# Q4. Find the standard deviation for the given data:\n",
    "\n",
    "[178,177,176,177,178.2,178,175,179,180,175,178.9,176.2,177,172.5,178,176.5]"
   ]
  },
  {
   "cell_type": "code",
   "execution_count": 14,
   "id": "8586dc50-8863-4abb-9869-99211bf40601",
   "metadata": {},
   "outputs": [
    {
     "data": {
      "text/plain": [
       "1.7885814036548633"
      ]
     },
     "execution_count": 14,
     "metadata": {},
     "output_type": "execute_result"
    }
   ],
   "source": [
    "np.std(d)"
   ]
  },
  {
   "cell_type": "markdown",
   "id": "899754a1-fcc4-4a1b-85ec-cb13d49537dd",
   "metadata": {},
   "source": [
    "# Q5. How are measures of dispersion such as range, variance, and standard deviation used to describe the spread of a dataset? Provide an example."
   ]
  },
  {
   "cell_type": "markdown",
   "id": "3707f880-1869-4e4b-918d-d9807b426942",
   "metadata": {},
   "source": [
    "Range, variance, and standard deviation all measure the spread or variability of a data set in different ways. The range is easy to calculate—it's the difference between the largest and smallest data points in a set. Standard deviation is the square root of the variance. Standard deviation is a measure of how spread out the data is from its mean."
   ]
  },
  {
   "cell_type": "markdown",
   "id": "b539d3a5-1271-4b84-a001-31fa2dd0ec82",
   "metadata": {},
   "source": [
    "# Q6. What is a Venn diagram?"
   ]
  },
  {
   "cell_type": "markdown",
   "id": "4ef6c5ab-c647-42b3-8efa-dfe2148c3653",
   "metadata": {},
   "source": [
    "A Venn diagram is an illustration that uses circles to show the relationships among things or finite groups of things."
   ]
  },
  {
   "cell_type": "markdown",
   "id": "7fcbe463-1725-4d03-b214-c50b27f6d55d",
   "metadata": {},
   "source": [
    "# Q7. For the two given sets A = (2,3,4,5,6,7) & B = (0,2,6,8,10). Find:\n",
    "\n",
    "(i) A B -> (2,6)\n",
    "\n",
    "(ii) A ⋃ B -> (0,2,3,4,5,6,7,8,10)"
   ]
  },
  {
   "cell_type": "markdown",
   "id": "b313a172-d37b-4b3d-9781-5f4a66990684",
   "metadata": {},
   "source": [
    "# Q8. What do you understand about skewness in data?"
   ]
  },
  {
   "cell_type": "markdown",
   "id": "5cea5e84-d609-4ea5-80a4-2a7bc6089229",
   "metadata": {},
   "source": [
    "Skewness is a measurement of the distortion of symmetrical distribution or asymmetry in a data set. Skewness is demonstrated on a bell curve when data points are not distributed symmetrically to the left and right sides of the median on a bell curve."
   ]
  },
  {
   "cell_type": "markdown",
   "id": "8a5d66b9-b559-425b-95d5-9c0cc3819e08",
   "metadata": {},
   "source": [
    "# Q9. If a data is right skewed then what will be the position of median with respect to mean?"
   ]
  },
  {
   "cell_type": "markdown",
   "id": "acb7fc00-de2f-462a-9845-3ec0575187f6",
   "metadata": {},
   "source": [
    "mean will be greater than the median."
   ]
  },
  {
   "cell_type": "markdown",
   "id": "0f46e0c4-6d12-4b80-a648-9d2e7d70e9d4",
   "metadata": {},
   "source": [
    "# Q10. Explain the difference between covariance and correlation. How are these measures used in statistical analysis?"
   ]
  },
  {
   "cell_type": "markdown",
   "id": "0848b221-c488-4076-b2e4-faf60cdd53b6",
   "metadata": {},
   "source": [
    "Covariance is an indicator of how two random variables change concerning each other. Correlation, on the other hand, measures the strength of this relationship. The correlation. It is calculated as (x(i)-mean(x))*(y(i)-mean(y)) / ((x(i)-mean(x))2 * (y(i)-mean(y))2."
   ]
  },
  {
   "cell_type": "markdown",
   "id": "6e9ff37c-7201-4827-a821-73efc4392db3",
   "metadata": {},
   "source": [
    "# Q11. What is the formula for calculating the sample mean? Provide an example calculation for a dataset."
   ]
  },
  {
   "cell_type": "markdown",
   "id": "f53abd16-7360-4d71-a437-dfb5bda4f1f8",
   "metadata": {},
   "source": [
    "The sample mean formula is: x̄= (xi)/n "
   ]
  },
  {
   "cell_type": "markdown",
   "id": "24f74abf-7a58-4904-89ec-8c25da606b7e",
   "metadata": {},
   "source": [
    "# Q12. For a normal distribution data what is the relationship between its measure of central tendency?"
   ]
  },
  {
   "cell_type": "markdown",
   "id": "3e01d4f0-bdf9-4b53-932a-76a13206d7b0",
   "metadata": {},
   "source": [
    " "
   ]
  },
  {
   "cell_type": "markdown",
   "id": "68a8fedb-3719-45cf-bbed-189048700acc",
   "metadata": {},
   "source": [
    "# Q13. How is covariance different from correlation?"
   ]
  },
  {
   "cell_type": "markdown",
   "id": "140c8b1e-3d63-4c67-aadf-2737eb1d7b79",
   "metadata": {},
   "source": [
    "Covariance shows you how the two variables differ, whereas correlation shows you how the two variables are related."
   ]
  },
  {
   "cell_type": "markdown",
   "id": "256757cf-685b-4af5-8421-100760736b3e",
   "metadata": {},
   "source": [
    "# Q14. How do outliers affect measures of central tendency and dispersion? Provide an example."
   ]
  },
  {
   "cell_type": "markdown",
   "id": "b50cecef-35d1-489a-859f-874c9598716c",
   "metadata": {},
   "source": []
  }
 ],
 "metadata": {
  "kernelspec": {
   "display_name": "Python 3 (ipykernel)",
   "language": "python",
   "name": "python3"
  },
  "language_info": {
   "codemirror_mode": {
    "name": "ipython",
    "version": 3
   },
   "file_extension": ".py",
   "mimetype": "text/x-python",
   "name": "python",
   "nbconvert_exporter": "python",
   "pygments_lexer": "ipython3",
   "version": "3.10.8"
  }
 },
 "nbformat": 4,
 "nbformat_minor": 5
}
