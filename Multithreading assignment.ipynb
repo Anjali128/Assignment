{
 "cells": [
  {
   "cell_type": "markdown",
   "id": "ca0350d8-d2b4-46de-894b-6a9186aeabcf",
   "metadata": {},
   "source": [
    "## 1. what is multithreading in python? why is it used? Name the module used to handle threads in python\n",
    "Multithreading is defined as the ability of a processor to execute multiple threads concurrently. In a simple, single-core CPU, it is achieved using frequent switching between threads. This is termed context switching. \n",
    "\n",
    "Threading module is used to handle threads in python."
   ]
  },
  {
   "cell_type": "markdown",
   "id": "10bc6bbb-166d-49a5-97aa-bb7a5b310119",
   "metadata": {},
   "source": [
    "## 2. why threading module used? write the use of the following functions\n",
    "Python threading allows us to have different parts of your program run concurrently and can simplify your design. \n",
    "\n",
    "threading.activeCount() − Returns the number of thread objects that are active.\n",
    "\n",
    "threading.currentThread() − Returns the number of thread objects in the caller's thread control.\n",
    "\n",
    "threading.enumerate() − Returns a list of all thread objects that are currently active."
   ]
  },
  {
   "cell_type": "markdown",
   "id": "fc9491d2-89fe-4686-80ae-26e2bdc089fd",
   "metadata": {},
   "source": [
    "## 3. Explain the following functions\n",
    "run() − The run() method is the entry point for a thread.\n",
    "\n",
    "start() − The start() method starts a thread by calling the run method.\n",
    "\n",
    "join() − The join() waits for threads to terminate.\n",
    "\n",
    "isAlive() − The isAlive() method checks whether a thread is still executing."
   ]
  },
  {
   "cell_type": "markdown",
   "id": "b54bd446-c5b4-4119-ab01-b5f0a4fec548",
   "metadata": {},
   "source": [
    "## 4. write a python program to create two threads. Thread one must print the list of squares and thread two must print the list of cubes"
   ]
  },
  {
   "cell_type": "code",
   "execution_count": 28,
   "id": "1be1a2cd-8aa5-4b00-b9fa-be045c929a93",
   "metadata": {},
   "outputs": [
    {
     "name": "stdout",
     "output_type": "stream",
     "text": [
      "square of 1 is 1\n",
      "square of 2 is 4\n",
      "square of 3 is 9\n",
      "square of 4 is 16\n",
      "square of 5 is 25\n",
      "square of 6 is 36\n",
      "square of 7 is 49\n",
      "square of 8 is 64\n",
      "square of 9 is 81\n",
      "cube of 1 is 1\n",
      "cube of 2 is 8\n",
      "cube of 3 is 27\n",
      "cube of 4 is 64\n",
      "cube of 5 is 125\n",
      "cube of 6 is 216\n",
      "cube of 7 is 343\n",
      "cube of 8 is 512\n",
      "cube of 9 is 729\n"
     ]
    }
   ],
   "source": [
    "import threading\n",
    "def square(num):\n",
    "    sq = num * num\n",
    "    print (\"square of {} is {}\" .format(num,sq))\n",
    "    \n",
    "def cube (num):\n",
    "    cu = num*num*num\n",
    "    print (\"cube of {} is {}\".format(num,cu))\n",
    "    \n",
    "squ = []\n",
    "cub = []\n",
    "\n",
    "for i in range(1,10):\n",
    "    thread1 = threading.Thread(target=square , args=(i, ))\n",
    "    squ.append(thread1)\n",
    "    thread1.start()\n",
    "\n",
    "for i in range(1,10):\n",
    "    thread2 = threading.Thread(target=cube , args=(i, ))\n",
    "    cub.append(thread2)\n",
    "    thread2.start()\n"
   ]
  },
  {
   "cell_type": "markdown",
   "id": "9021d859-4deb-41fa-aa16-efd79e50a51c",
   "metadata": {},
   "source": [
    "## 5. State advantages and disadvantages of multithreading"
   ]
  },
  {
   "cell_type": "markdown",
   "id": "7f3b4d5b-5753-4df6-8e6b-532309b549fa",
   "metadata": {},
   "source": [
    "Advantages:\n",
    "\n",
    "Improved performance: Multithreading can help increase the overall performance of an application, especially on systems with multiple processors or cores. It allows multiple tasks to run concurrently, utilizing the available CPU resources more efficiently.\n",
    "\n",
    "Responsiveness: In a single-threaded environment, if a long-running task blocks the main thread, the entire application becomes unresponsive. Multithreading can prevent this issue by running such tasks in separate threads, ensuring the application remains responsive.\n",
    "\n",
    "Better resource utilization: Multithreading allows better utilization of system resources by keeping the CPU busy while waiting for I/O operations or other tasks to complete.\n",
    "\n",
    "Simplified modeling: Some problems can be more naturally modeled using multiple threads. This makes the program easier to design, understand, and maintain.\n",
    "\n",
    "Parallelism: Multithreading enables parallelism, which can lead to significant performance improvements in applications that can be divided into smaller, independent tasks.\n",
    "\n",
    "Disadvantages:\n",
    "\n",
    "Complexity: Multithreading adds complexity to the program, making it more difficult to design, implement, and debug. Developers need to be aware of synchronization, deadlocks, race conditions, and other concurrency-related issues.\n",
    "\n",
    "Synchronization overhead: To avoid data corruption and maintain consistency, developers must synchronize access to shared resources, which can result in additional overhead and reduced performance.\n",
    "\n",
    "Context switching: Context switching between threads consumes CPU time and resources, which can lead to performance degradation if not managed efficiently.\n",
    "\n",
    "Hard to predict behavior: Due to the concurrent nature of multithreading, the behavior of the program can be hard to predict and reproduce, especially when it comes to debugging.\n",
    "\n",
    "Limited by hardware: The performance benefits of multithreading are limited by the number of available cores or processors in the system. In some cases, excessive use of threads can lead to performance degradation instead of improvement."
   ]
  },
  {
   "cell_type": "markdown",
   "id": "44235f5f-85bf-4137-885b-68da96dc525a",
   "metadata": {},
   "source": [
    "## 6. Explain deadlocks and race conditions."
   ]
  },
  {
   "cell_type": "markdown",
   "id": "3338b947-7ce5-4a17-9a25-bad6c4214a59",
   "metadata": {},
   "source": [
    "A race condition is a failure case where the behavior of the program is dependent upon the order of execution by two or more threads. \n",
    "\n",
    "A deadlock is a concurrency failure mode where a thread or threads wait for a condition that never occurs. The result is that the deadlock threads are unable to progress and the program is stuck or frozen and must be terminated forcefully"
   ]
  }
 ],
 "metadata": {
  "kernelspec": {
   "display_name": "Python 3 (ipykernel)",
   "language": "python",
   "name": "python3"
  },
  "language_info": {
   "codemirror_mode": {
    "name": "ipython",
    "version": 3
   },
   "file_extension": ".py",
   "mimetype": "text/x-python",
   "name": "python",
   "nbconvert_exporter": "python",
   "pygments_lexer": "ipython3",
   "version": "3.10.8"
  }
 },
 "nbformat": 4,
 "nbformat_minor": 5
}
