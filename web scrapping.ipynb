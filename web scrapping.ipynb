{
 "cells": [
  {
   "cell_type": "markdown",
   "id": "1d05cfea-4f05-4be3-ae09-6ad66acf9a33",
   "metadata": {},
   "source": [
    "# Q1. What is Web Scraping? Why is it Used? Give three areas where Web Scraping is used to get data."
   ]
  },
  {
   "cell_type": "markdown",
   "id": "7e71d659-8e44-417b-acea-c8ef3dfffd10",
   "metadata": {},
   "source": [
    "Web scraping is an automatic method to obtain large amounts of data from websites. Most of this data is unstructured data in an HTML format which is then converted into structured data in a spreadsheet or a database so that it can be used in various applications.\n",
    "\n",
    "Web scraping is used to obtain large amounts of data from websites.\n",
    "\n",
    "three areas where Web Scraping is used to get data are :-\n",
    "price monitoring , market research , Sentimnt analysis etc"
   ]
  },
  {
   "cell_type": "markdown",
   "id": "e85538fe-1cd4-4cfe-9c59-6db797fb561d",
   "metadata": {},
   "source": [
    "## Q2. What are the different methods used for Web Scraping?"
   ]
  },
  {
   "cell_type": "markdown",
   "id": "fd04efa9-a584-4289-b732-24b9bd4313c1",
   "metadata": {},
   "source": [
    "Human copy-and-paste. Text pattern matching. HTTP programming. HTML parsing."
   ]
  },
  {
   "cell_type": "markdown",
   "id": "4f689082-9c74-42a1-8186-eec2cbead2aa",
   "metadata": {},
   "source": [
    "## Q3. What is Beautiful Soup? Why is it used?"
   ]
  },
  {
   "cell_type": "markdown",
   "id": "12f11d55-d142-4d08-b1e9-fc82ad433b9f",
   "metadata": {},
   "source": [
    "Beautiful Soup is a Python library that makes it easy to scrape information from web pages. It sits atop an HTML or XML parser and provides Pythonic idioms for iterating, searching, and modifying the parse tree.\n",
    "\n",
    "The Beautiful Soup library helps with isolating titles and links from webpages. It can extract all of the text from ​HTML tags, and alter the HTML ​in the document with which we’re working."
   ]
  },
  {
   "cell_type": "markdown",
   "id": "5eb6d607-fa9b-4ba2-9aa7-3fb6298c41bc",
   "metadata": {},
   "source": [
    "# Q4. Why is flask used in this Web Scraping project?"
   ]
  },
  {
   "cell_type": "markdown",
   "id": "06de36fc-189a-47b3-8917-f672774617b3",
   "metadata": {},
   "source": [
    "Flask is a lightweight framework to build websites. We'll use this to parse our collected data and display it as HTML in a new HTML file."
   ]
  },
  {
   "cell_type": "markdown",
   "id": "b24ab56a-83d4-4fc8-96a4-63b9cc169c49",
   "metadata": {},
   "source": [
    "# Q5. Write the names of AWS services used in this project. Also, explain the use of each service."
   ]
  },
  {
   "cell_type": "markdown",
   "id": "74c38e8b-c9e8-4f29-bbb4-2d5a89522a24",
   "metadata": {},
   "source": []
  }
 ],
 "metadata": {
  "kernelspec": {
   "display_name": "",
   "name": ""
  },
  "language_info": {
   "name": ""
  }
 },
 "nbformat": 4,
 "nbformat_minor": 5
}
