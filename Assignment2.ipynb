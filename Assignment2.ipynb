{
 "cells": [
  {
   "cell_type": "markdown",
   "id": "f10c29d6-0d21-4055-baf3-e9abec2280c0",
   "metadata": {},
   "source": [
    "Q1. How do you comment code in Python? What are the different types of comments?"
   ]
  },
  {
   "cell_type": "markdown",
   "id": "435926af-b43e-4f76-b4c6-2e16f7cc2a58",
   "metadata": {},
   "source": [
    "In Python codes are commented with # and \"\"\" \"\"\".\n",
    "There are two different types of Comments :-\n",
    "Single line comment and multi line comment\n",
    "Single line comment are those comment which are written with # in the starting of a sentence.\n",
    "Single line comment are those comment which are written within \"\"\"-----\"\"\" ."
   ]
  },
  {
   "cell_type": "raw",
   "id": "6231ef1a-02b0-4e94-8010-f21630de2c56",
   "metadata": {},
   "source": []
  },
  {
   "cell_type": "markdown",
   "id": "8c5e538a-6365-4750-b468-81b3b0290d56",
   "metadata": {},
   "source": [
    "Q2. What are variables in Python? How do you declare and assign values to variables?"
   ]
  },
  {
   "cell_type": "markdown",
   "id": "aa859545-c318-432d-bbb7-01d716f24483",
   "metadata": {},
   "source": [
    "Variables in Python are those which store certain value to perform certain operations in the program.\n",
    "Declaring value in INT format:-\n",
    "x=int(input(\"enter the value of x\"))\n",
    "\n",
    "Declaring value in STRING format:-\n",
    "x=str(input(\"enter the value of y\"))\n"
   ]
  },
  {
   "cell_type": "raw",
   "id": "53054802-cbfb-40cd-a627-aa79e496650b",
   "metadata": {},
   "source": []
  },
  {
   "cell_type": "markdown",
   "id": "31434fd3-087d-49db-a6e0-62da68ab0ac1",
   "metadata": {},
   "source": [
    "Q2. How do you convert one data type to another in Python?"
   ]
  },
  {
   "cell_type": "code",
   "execution_count": 4,
   "id": "53595264-1a80-4462-9606-bff755f5fa35",
   "metadata": {},
   "outputs": [
    {
     "name": "stdout",
     "output_type": "stream",
     "text": [
      "10\n",
      "<class 'str'>\n"
     ]
    }
   ],
   "source": [
    "a = 10\n",
    " \n",
    "# Converting number to string\n",
    "s = str(a)\n",
    "print(s)\n",
    "print(type(s))"
   ]
  },
  {
   "cell_type": "raw",
   "id": "3f07ebfc-2a08-476a-9290-2654180458ca",
   "metadata": {},
   "source": []
  },
  {
   "cell_type": "markdown",
   "id": "4e20c6c3-13e7-4d02-b0e1-c5526fc8dd8d",
   "metadata": {},
   "source": [
    "Q3. How do you write and execute a Python script from the command line?"
   ]
  },
  {
   "cell_type": "code",
   "execution_count": null,
   "id": "85a39cd7-b134-49f5-a4d2-79bbec693f76",
   "metadata": {},
   "outputs": [],
   "source": []
  },
  {
   "cell_type": "raw",
   "id": "4f5fc780-7ea4-4a3c-9a91-0ac1b416e764",
   "metadata": {},
   "source": []
  },
  {
   "cell_type": "markdown",
   "id": "66ff7e81-d3ba-4895-9b8a-98c7c8eb06d2",
   "metadata": {},
   "source": [
    "Q5. Given a list my_list = [1, 2, 3, 4, 5], write the code to slice the list and obtain the sub-list [2, 3]."
   ]
  },
  {
   "cell_type": "code",
   "execution_count": 9,
   "id": "0c1dd931-5ec8-4b2b-abab-684dadd4f60a",
   "metadata": {},
   "outputs": [
    {
     "data": {
      "text/plain": [
       "[2, 3]"
      ]
     },
     "execution_count": 9,
     "metadata": {},
     "output_type": "execute_result"
    }
   ],
   "source": [
    "my_list = [1,2,3,4,5]\n",
    "my_list[1:3]"
   ]
  },
  {
   "cell_type": "raw",
   "id": "1fab0f5f-c400-40f0-8394-6ddbf1155342",
   "metadata": {},
   "source": []
  },
  {
   "cell_type": "markdown",
   "id": "ac3fd306-cc86-4738-a7b4-e3249f2a59be",
   "metadata": {},
   "source": [
    "Q6. What is a complex number in mathematics, and how is it represented in Python?"
   ]
  },
  {
   "cell_type": "markdown",
   "id": "9baaa16f-d387-4f9a-9a97-e2fd28feb3ab",
   "metadata": {},
   "source": [
    "Complex numbers are the numbers that are expressed in the form of a+ib where, a,b are real numbers and  ‘i’ is an imaginary number called “iota”. \n",
    "Combination of both the real number and imaginary number is a complex number.\n",
    "Complex numbers in python are repersented by a+ij (5+6j)"
   ]
  },
  {
   "cell_type": "raw",
   "id": "7ab2a3aa-efc3-459d-b9c1-2c1cc9886168",
   "metadata": {},
   "source": []
  },
  {
   "cell_type": "markdown",
   "id": "c280a27c-4595-4cfa-98a1-816e819fdfcd",
   "metadata": {},
   "source": [
    "Q7. What is the correct way to declare a variable named age and assign the value 25 to it?"
   ]
  },
  {
   "cell_type": "code",
   "execution_count": 12,
   "id": "f75dbbe2-bb07-4636-a5ad-de26a3ed79ba",
   "metadata": {},
   "outputs": [
    {
     "name": "stdin",
     "output_type": "stream",
     "text": [
      "Enter your age 25\n"
     ]
    },
    {
     "name": "stdout",
     "output_type": "stream",
     "text": [
      "your age is 25\n"
     ]
    }
   ],
   "source": [
    "age = int(input(\"Enter your age\"))\n",
    "print(\"your age is \"+str(age))"
   ]
  },
  {
   "cell_type": "raw",
   "id": "f04b2f83-eddb-4071-964e-05af36adba78",
   "metadata": {},
   "source": []
  },
  {
   "cell_type": "markdown",
   "id": "c6bd8a96-b2cf-457e-aeb9-51e7cb2f8dc2",
   "metadata": {},
   "source": [
    "Q8. Declare a variable named price and assign the value 9.99 to it. What data type does this variable\n",
    "belong to?"
   ]
  },
  {
   "cell_type": "code",
   "execution_count": 13,
   "id": "860b9f4d-78a6-4cdc-a1d2-0dcccdc8c675",
   "metadata": {},
   "outputs": [
    {
     "data": {
      "text/plain": [
       "float"
      ]
     },
     "execution_count": 13,
     "metadata": {},
     "output_type": "execute_result"
    }
   ],
   "source": [
    "price = 9.99\n",
    "type(price)"
   ]
  },
  {
   "cell_type": "markdown",
   "id": "20623059-999c-4113-b6e4-e37068a82871",
   "metadata": {},
   "source": [
    "Q9. Create a variable named name and assign your full name to it as a string. How would you print the\n",
    "value of this variable?"
   ]
  },
  {
   "cell_type": "code",
   "execution_count": 14,
   "id": "4696be14-98e6-49aa-87f2-553773065582",
   "metadata": {},
   "outputs": [
    {
     "data": {
      "text/plain": [
       "'Anjali Kumari'"
      ]
     },
     "execution_count": 14,
     "metadata": {},
     "output_type": "execute_result"
    }
   ],
   "source": [
    "name = \"Anjali Kumari\"\n",
    "name"
   ]
  },
  {
   "cell_type": "markdown",
   "id": "eafae98a-cd3f-4b62-aa3b-b2344523ea92",
   "metadata": {},
   "source": [
    "Q10. Given the string \"Hello, World!\", extract the substring \"World\"."
   ]
  },
  {
   "cell_type": "code",
   "execution_count": 16,
   "id": "3c0b47c8-75d6-4e08-98cf-dc8acde83842",
   "metadata": {},
   "outputs": [
    {
     "data": {
      "text/plain": [
       "'World'"
      ]
     },
     "execution_count": 16,
     "metadata": {},
     "output_type": "execute_result"
    }
   ],
   "source": [
    "s=\"Hello, World!\"\n",
    "s[7:12]"
   ]
  },
  {
   "cell_type": "markdown",
   "id": "0eaa5cf6-e5bf-466b-a456-2e1a93249b6d",
   "metadata": {},
   "source": [
    "Q11. Create a variable named \"is_student\" and assign it a boolean value indicating whether you are\n",
    "currently a student or not."
   ]
  },
  {
   "cell_type": "code",
   "execution_count": null,
   "id": "80837b90-7e46-45b0-9180-76bf5b0856f7",
   "metadata": {},
   "outputs": [],
   "source": [
    "is_student = True\n",
    "if is_student == True:\n",
    "    "
   ]
  }
 ],
 "metadata": {
  "kernelspec": {
   "display_name": "Python 3 (ipykernel)",
   "language": "python",
   "name": "python3"
  },
  "language_info": {
   "codemirror_mode": {
    "name": "ipython",
    "version": 3
   },
   "file_extension": ".py",
   "mimetype": "text/x-python",
   "name": "python",
   "nbconvert_exporter": "python",
   "pygments_lexer": "ipython3",
   "version": "3.10.8"
  }
 },
 "nbformat": 4,
 "nbformat_minor": 5
}
