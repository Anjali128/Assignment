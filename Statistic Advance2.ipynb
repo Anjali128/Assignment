{
 "cells": [
  {
   "cell_type": "markdown",
   "id": "7481be90-f496-4fea-a0a1-918147fa4f2c",
   "metadata": {},
   "source": [
    "# Q1: What are the Probability Mass Function (PMF) and Probability Density Function (PDF)? Explain with an example."
   ]
  },
  {
   "cell_type": "markdown",
   "id": "0396db00-2626-43b2-8ef8-82127445cc31",
   "metadata": {},
   "source": [
    " The Probability Density Function(PDF) defines the probability function representing the density of a continuous random variable lying between a specific range of values.\n",
    " \n",
    " a probability mass function is a function that gives the probability that a discrete random variable is exactly equal to some value.\n",
    " \n",
    " eg - I toss a fair coin twice"
   ]
  },
  {
   "cell_type": "markdown",
   "id": "fe78ef47-4a4a-4b85-9d19-513619c57457",
   "metadata": {},
   "source": [
    "# Q2: What is Cumulative Density Function (CDF)? Explain with an example. Why CDF is used?"
   ]
  },
  {
   "cell_type": "markdown",
   "id": "5487a114-59dc-4952-b5e5-5fc23013544e",
   "metadata": {},
   "source": [
    "The cumulative distribution function (CDF) of random variable X is defined as FX(x) = P(X ≤ x), for all x ∈ R. Note that the subscript X indicates that this is the CDF of the random variable X. Also, note that the CDF is defined for all x ∈ R.\n",
    "\n",
    "The cumulative distribution function (CDF) calculates the cumulative probability for a given x-value. Use the CDF to determine the likelihood that a random observation taken from the population will be less than or equal to a particular value."
   ]
  },
  {
   "cell_type": "markdown",
   "id": "2e4e5869-7d3d-4141-916d-2d97f1e9a8d6",
   "metadata": {},
   "source": [
    "# Q3: What are some examples of situations where the normal distribution might be used as a model? Explain how the parameters of the normal distribution relate to the shape of the distribution."
   ]
  },
  {
   "cell_type": "markdown",
   "id": "efb252d9-dfbd-4658-923e-65bdef05390b",
   "metadata": {},
   "source": [
    "1. Height\n",
    "The height of people is an example of normal distribution. Most of the people in a specific population are of average height. The number of people taller and shorter than the average height people is almost equal, and a very small number of people are either extremely tall or extremely short. \n",
    "\n",
    "* 2.Shoe Sizes\n",
    "The distribution of shoe sizes for males in the U.S. is roughly normally distributed with a mean of size 10 and a standard deviation of 1.\n"
   ]
  },
  {
   "cell_type": "markdown",
   "id": "a5dac194-35ab-4b24-b231-41bc0676a093",
   "metadata": {},
   "source": [
    "# Q4: Explain the importance of Normal Distribution. Give a few real-life examples of Normal Distribution."
   ]
  },
  {
   "cell_type": "markdown",
   "id": "5b7274e3-6a69-424c-b7e6-495b73123c72",
   "metadata": {},
   "source": [
    "The normal distribution is also termed as a gaussian distribution. It represents the data from the mean position. In the graph form normal distribution appears as a bell curve.\n",
    "\n",
    "The normal distribution is widely used in financing industries. To examine the price action of the stocks and to account for the returns in the assent class.\n",
    "\n",
    "The normal distribution is symmetric and has a skewness of zero. The skewness measures the symmetry of a distribution with respect to the normal distribution.\n",
    "\n",
    "The normal distribution is an important probability distribution in math and statistics because many continuous data in nature and psychology display this bell-shaped curve when compiled and graphed."
   ]
  },
  {
   "cell_type": "markdown",
   "id": "b9299119-f906-46f7-b033-23082ac0742b",
   "metadata": {},
   "source": [
    "# Q5: What is Bernaulli Distribution? Give an Example. What is the difference between Bernoulli Distribution and Binomial Distribution?"
   ]
  },
  {
   "cell_type": "markdown",
   "id": "26d7b286-e848-45d3-b20e-edf7c62efab4",
   "metadata": {},
   "source": [
    "Bernoulli Distribution:-  This distribution deals with the data which only has 1 trial & only 2 possible outcomes. Anything other than that will not fall under the Bernoulli Distribution category.\n",
    "* Example of Bernoulli Distribution\n",
    "For the real-life example, let’s consider the situation of passing or failing an exam. Let’s assume the probability to pass the exam is 95%, therefore the probability to fail will be 5%.\n",
    "\n",
    "In this case, if the event to pass the exam is considered, then the Bernoulli event will contain the probability of passing the exam. Similarly, it goes for failing the exam.\n",
    "* DIff\n",
    "Bernoulli deals with the outcome of the single trial of the event, whereas Binomial deals with the outcome of the multiple trials of the single event.\n",
    "\n",
    "Bernoulli is used when the outcome of an event is required for only one time, whereas the Binomial is used when the outcome of an event is required multiple times."
   ]
  },
  {
   "cell_type": "markdown",
   "id": "c69272d5-15a2-406a-9eb7-556f214905d9",
   "metadata": {},
   "source": [
    "# Q7: Explain uniform Distribution with an example."
   ]
  },
  {
   "cell_type": "markdown",
   "id": "4f4bc499-728d-4276-b318-453a4b5ef5cf",
   "metadata": {},
   "source": [
    "A continuous probability distribution is a Uniform distribution and is related to the events which are equally likely to occur. It is defined by two parameters, x and y, where x = minimum value and y = maximum value. It is generally denoted by u(x, y).\n",
    "\n",
    "* EG- A deck of cards also has a uniform distribution. It is because an individual has an equal chance of drawing a spade, a heart, a club, or a diamond."
   ]
  },
  {
   "cell_type": "markdown",
   "id": "a2811df4-7bb6-46cd-bb03-3fe103d47afd",
   "metadata": {},
   "source": [
    "# Q8: What is the z score? State the importance of the z score."
   ]
  },
  {
   "cell_type": "markdown",
   "id": "b442e186-f795-40f9-9dc1-5157ddc0f068",
   "metadata": {},
   "source": [
    "Z-score is a statistical measurement that describes a value's relationship to the mean of a group of values. Z-score is measured in terms of standard deviations from the mean. If a Z-score is 0, it indicates that the data point's score is identical to the mean score.\n",
    "\n",
    "A z-score is important because it tells where your data lies in the data distribution. For example, if a z-score is 1.5, it is 1.5 standard deviations away from the mean. Because 68% of your data lies within one standard deviation (if it is normally distributed), 1.5 might be considered too far from average for your comfort."
   ]
  },
  {
   "cell_type": "markdown",
   "id": "c0a29145-9e26-47aa-b254-41ec6a47ed65",
   "metadata": {},
   "source": [
    "# Q9: What is Central Limit Theorem? State the significance of the Central Limit Theorem."
   ]
  },
  {
   "cell_type": "markdown",
   "id": "d6cb6492-667e-4981-8b48-feadc05a4cc5",
   "metadata": {},
   "source": []
  }
 ],
 "metadata": {
  "kernelspec": {
   "display_name": "Python 3 (ipykernel)",
   "language": "python",
   "name": "python3"
  },
  "language_info": {
   "codemirror_mode": {
    "name": "ipython",
    "version": 3
   },
   "file_extension": ".py",
   "mimetype": "text/x-python",
   "name": "python",
   "nbconvert_exporter": "python",
   "pygments_lexer": "ipython3",
   "version": "3.10.8"
  }
 },
 "nbformat": 4,
 "nbformat_minor": 5
}
